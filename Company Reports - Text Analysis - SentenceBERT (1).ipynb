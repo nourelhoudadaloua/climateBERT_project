{
 "cells": [
  {
   "cell_type": "code",
   "execution_count": 1,
   "id": "49bd2231-360f-4331-a97b-829a2903d62b",
   "metadata": {},
   "outputs": [],
   "source": [
    "import fitz  # PyMuPDF "
   ]
  },
  {
   "cell_type": "code",
   "execution_count": 2,
   "id": "d5b90356-8087-4f26-9ef5-750b93178dfa",
   "metadata": {},
   "outputs": [],
   "source": [
    "import pandas as pd"
   ]
  },
  {
   "cell_type": "code",
   "execution_count": 3,
   "id": "bacecd40-28fa-4fac-8bc7-9bb865b31334",
   "metadata": {},
   "outputs": [],
   "source": [
    "import os"
   ]
  },
  {
   "cell_type": "markdown",
   "id": "4db53f1a-a823-42ad-85d6-0345b0772da4",
   "metadata": {},
   "source": [
    "For each rating, we will read the pdf file for each company each year. "
   ]
  },
  {
   "cell_type": "markdown",
   "id": "0ec57f5a-7998-4aed-90fa-9a2b47fec88a",
   "metadata": {},
   "source": [
    "The resulting dataframe should have the following columns: **Doc ID (for each company), File Name, Rating,Text.**"
   ]
  },
  {
   "cell_type": "markdown",
   "id": "0ae6e545-053c-4155-8d46-15540f8b3563",
   "metadata": {},
   "source": [
    "### Rating A "
   ]
  },
  {
   "cell_type": "code",
   "execution_count": 4,
   "id": "00330c6c-0d51-40a9-b6fc-f3eb1406ac16",
   "metadata": {},
   "outputs": [],
   "source": [
    "### define the directory that contains the companies rated as A \n",
    "base_dir_a = \"C:\\\\Users\\\\nourd\\\\OneDrive\\\\Documents\\\\Master of Research\\\\Thesis - Master\\\\Water Reports\\\\A\""
   ]
  },
  {
   "cell_type": "code",
   "execution_count": 5,
   "id": "ff80b928-9585-4bc0-b06d-129e80aa13db",
   "metadata": {},
   "outputs": [
    {
     "data": {
      "text/plain": [
       "['ACCIONA S.A',\n",
       " 'Kirin Holdings Co Ltd',\n",
       " 'NSK Ltd',\n",
       " 'PTT Global Chemical',\n",
       " 'Tech Mahindra',\n",
       " 'ÇİMSA ÇİMENTO SANAYİ VE TİCARET A.Ş']"
      ]
     },
     "execution_count": 5,
     "metadata": {},
     "output_type": "execute_result"
    }
   ],
   "source": [
    "os.listdir(base_dir_a)"
   ]
  },
  {
   "cell_type": "code",
   "execution_count": 6,
   "id": "1f3d3833-e417-4e8e-b755-cb0b9302e062",
   "metadata": {},
   "outputs": [],
   "source": [
    "columns = ['Doc ID','Company Name','File Name','Rating','Text'] \n",
    "\n",
    "#create dataframe with these columns \n",
    "text_dataframe = pd.DataFrame(columns=columns)"
   ]
  },
  {
   "cell_type": "code",
   "execution_count": 7,
   "id": "061c717d-b7e1-4901-ae8d-8e5ca9764b39",
   "metadata": {},
   "outputs": [],
   "source": [
    "doc_id = 1  # Start Doc ID counter"
   ]
  },
  {
   "cell_type": "code",
   "execution_count": 8,
   "id": "502d5c00-d3df-4e27-b3f6-789cf7aceeb3",
   "metadata": {},
   "outputs": [
    {
     "data": {
      "text/html": [
       "<div>\n",
       "<style scoped>\n",
       "    .dataframe tbody tr th:only-of-type {\n",
       "        vertical-align: middle;\n",
       "    }\n",
       "\n",
       "    .dataframe tbody tr th {\n",
       "        vertical-align: top;\n",
       "    }\n",
       "\n",
       "    .dataframe thead th {\n",
       "        text-align: right;\n",
       "    }\n",
       "</style>\n",
       "<table border=\"1\" class=\"dataframe\">\n",
       "  <thead>\n",
       "    <tr style=\"text-align: right;\">\n",
       "      <th></th>\n",
       "      <th>Doc ID</th>\n",
       "      <th>Company Name</th>\n",
       "      <th>File Name</th>\n",
       "      <th>Rating</th>\n",
       "      <th>Text</th>\n",
       "    </tr>\n",
       "  </thead>\n",
       "  <tbody>\n",
       "  </tbody>\n",
       "</table>\n",
       "</div>"
      ],
      "text/plain": [
       "Empty DataFrame\n",
       "Columns: [Doc ID, Company Name, File Name, Rating, Text]\n",
       "Index: []"
      ]
     },
     "execution_count": 8,
     "metadata": {},
     "output_type": "execute_result"
    }
   ],
   "source": [
    "text_dataframe"
   ]
  },
  {
   "cell_type": "code",
   "execution_count": 9,
   "id": "468973d2-55aa-470f-9b9a-1c1605a4a9b7",
   "metadata": {},
   "outputs": [],
   "source": [
    "### for every company file, assign the name of the file to the column 'Company Name', \n",
    "### iterate through the files, assign the name of the file to the column 'File Name',\n",
    "### and the extracted text in the column 'Text'\n",
    "### assign the 'Rating' column 'A' \n",
    "### the column Doc ID increments whenever we open a new company file "
   ]
  },
  {
   "cell_type": "code",
   "execution_count": 10,
   "id": "114b72b8-6714-4f2c-9548-f85fb4d25405",
   "metadata": {},
   "outputs": [],
   "source": [
    "for company_folder in os.listdir(base_dir_a): \n",
    "    company_path = os.path.join(base_dir_a, company_folder) \n",
    "    # validate that it is a directory: \n",
    "    if os.path.isdir(company_path): \n",
    "        #iterate through files inside the company files \n",
    "        for file_name in os.listdir(company_path): \n",
    "            file_path = os.path.join(company_path, file_name) \n",
    "\n",
    "            # process only pdfs \n",
    "            if file_name.lower().endswith(\".pdf\"): \n",
    "                text = \"\" \n",
    "                with fitz.open(file_path) as doc: \n",
    "                    for page in doc: \n",
    "                        text += page.get_text() \n",
    "            # Append row to DataFrame\n",
    "                text_dataframe = pd.concat([text_dataframe, pd.DataFrame([{\n",
    "                    \"Doc ID\": doc_id,\n",
    "                    \"Company Name\": company_folder,\n",
    "                    \"File Name\": file_name,\n",
    "                    \"Text\": text,\n",
    "                    \"Rating\": \"A\"\n",
    "                }])], ignore_index=True) \n",
    "        doc_id += 1 "
   ]
  },
  {
   "cell_type": "code",
   "execution_count": 11,
   "id": "3c3e23ae-865c-4c19-937f-36bb7be0b752",
   "metadata": {},
   "outputs": [
    {
     "data": {
      "text/html": [
       "<div>\n",
       "<style scoped>\n",
       "    .dataframe tbody tr th:only-of-type {\n",
       "        vertical-align: middle;\n",
       "    }\n",
       "\n",
       "    .dataframe tbody tr th {\n",
       "        vertical-align: top;\n",
       "    }\n",
       "\n",
       "    .dataframe thead th {\n",
       "        text-align: right;\n",
       "    }\n",
       "</style>\n",
       "<table border=\"1\" class=\"dataframe\">\n",
       "  <thead>\n",
       "    <tr style=\"text-align: right;\">\n",
       "      <th></th>\n",
       "      <th>Doc ID</th>\n",
       "      <th>Company Name</th>\n",
       "      <th>File Name</th>\n",
       "      <th>Rating</th>\n",
       "      <th>Text</th>\n",
       "    </tr>\n",
       "  </thead>\n",
       "  <tbody>\n",
       "    <tr>\n",
       "      <th>0</th>\n",
       "      <td>1</td>\n",
       "      <td>ACCIONA S.A</td>\n",
       "      <td>ACCIONA S.A_2021.pdf</td>\n",
       "      <td>A</td>\n",
       "      <td>S\\nU\\nS\\nT\\nA\\nI\\nN\\nA\\nB\\nI\\nL\\nI\\nT\\nY\\n \\n ...</td>\n",
       "    </tr>\n",
       "    <tr>\n",
       "      <th>1</th>\n",
       "      <td>1</td>\n",
       "      <td>ACCIONA S.A</td>\n",
       "      <td>ACCIONA S.A_2022.pdf</td>\n",
       "      <td>A</td>\n",
       "      <td>S U S T A I N A B I L I T Y  R E P O R T\\nACCI...</td>\n",
       "    </tr>\n",
       "    <tr>\n",
       "      <th>2</th>\n",
       "      <td>1</td>\n",
       "      <td>ACCIONA S.A</td>\n",
       "      <td>ACCIONA S.A_2023.pdf</td>\n",
       "      <td>A</td>\n",
       "      <td>\\n \\nSUSTAINABILITY \\nREPORT \\n20 \\n23 \\n2 \\n...</td>\n",
       "    </tr>\n",
       "    <tr>\n",
       "      <th>3</th>\n",
       "      <td>1</td>\n",
       "      <td>ACCIONA S.A</td>\n",
       "      <td>ACCIONA S.A_2024.pdf</td>\n",
       "      <td>A</td>\n",
       "      <td>2024 Sustainability Report \\nACCIONA \\n1 \\nSUS...</td>\n",
       "    </tr>\n",
       "    <tr>\n",
       "      <th>4</th>\n",
       "      <td>2</td>\n",
       "      <td>Kirin Holdings Co Ltd</td>\n",
       "      <td>Kirin Holdings Co Ltd_2021.pdf</td>\n",
       "      <td>A</td>\n",
       "      <td>Environmental Report 2021\\n2021.10\\n2\\nMessage...</td>\n",
       "    </tr>\n",
       "  </tbody>\n",
       "</table>\n",
       "</div>"
      ],
      "text/plain": [
       "  Doc ID           Company Name                       File Name Rating  \\\n",
       "0      1            ACCIONA S.A            ACCIONA S.A_2021.pdf      A   \n",
       "1      1            ACCIONA S.A            ACCIONA S.A_2022.pdf      A   \n",
       "2      1            ACCIONA S.A            ACCIONA S.A_2023.pdf      A   \n",
       "3      1            ACCIONA S.A            ACCIONA S.A_2024.pdf      A   \n",
       "4      2  Kirin Holdings Co Ltd  Kirin Holdings Co Ltd_2021.pdf      A   \n",
       "\n",
       "                                                Text  \n",
       "0  S\\nU\\nS\\nT\\nA\\nI\\nN\\nA\\nB\\nI\\nL\\nI\\nT\\nY\\n \\n ...  \n",
       "1  S U S T A I N A B I L I T Y  R E P O R T\\nACCI...  \n",
       "2   \\n \\nSUSTAINABILITY \\nREPORT \\n20 \\n23 \\n2 \\n...  \n",
       "3  2024 Sustainability Report \\nACCIONA \\n1 \\nSUS...  \n",
       "4  Environmental Report 2021\\n2021.10\\n2\\nMessage...  "
      ]
     },
     "execution_count": 11,
     "metadata": {},
     "output_type": "execute_result"
    }
   ],
   "source": [
    "text_dataframe.head()"
   ]
  },
  {
   "cell_type": "markdown",
   "id": "0193138c-1144-4566-b9f8-f7ff805bf343",
   "metadata": {},
   "source": [
    "### Rating B "
   ]
  },
  {
   "cell_type": "code",
   "execution_count": 12,
   "id": "e5505c2d-a7b6-4dfb-b4e4-6ae2ba9c51cd",
   "metadata": {},
   "outputs": [],
   "source": [
    "### define the directory that contains the companies rated as B\n",
    "base_dir_b = \"C:\\\\Users\\\\nourd\\\\OneDrive\\\\Documents\\\\Master of Research\\\\Thesis - Master\\\\Water Reports\\\\B\""
   ]
  },
  {
   "cell_type": "code",
   "execution_count": 13,
   "id": "79e23c12-330d-444b-be17-7949bc02817b",
   "metadata": {},
   "outputs": [],
   "source": [
    "for company_folder in os.listdir(base_dir_b): \n",
    "    company_path = os.path.join(base_dir_b, company_folder) \n",
    "    # validate that it is a directory: \n",
    "    if os.path.isdir(company_path): \n",
    "        #iterate through files inside the company files \n",
    "        for file_name in os.listdir(company_path): \n",
    "            file_path = os.path.join(company_path, file_name) \n",
    "\n",
    "            # process only pdfs \n",
    "            if file_name.lower().endswith(\".pdf\"): \n",
    "                text = \"\" \n",
    "                with fitz.open(file_path) as doc: \n",
    "                    for page in doc: \n",
    "                        text += page.get_text() \n",
    "            # Append row to DataFrame\n",
    "                text_dataframe = pd.concat([text_dataframe, pd.DataFrame([{\n",
    "                    \"Doc ID\": doc_id,\n",
    "                    \"Company Name\": company_folder,\n",
    "                    \"File Name\": file_name,\n",
    "                    \"Text\": text,\n",
    "                    \"Rating\": \"B\"\n",
    "                }])], ignore_index=True) \n",
    "        doc_id += 1 "
   ]
  },
  {
   "cell_type": "markdown",
   "id": "ba1b9513-0e54-49bd-8027-315543a8dffe",
   "metadata": {},
   "source": [
    "### Rating C "
   ]
  },
  {
   "cell_type": "code",
   "execution_count": 14,
   "id": "c0bc63fe-b886-48f6-83ed-15cbaeb9e8fd",
   "metadata": {},
   "outputs": [],
   "source": [
    "### define the directory that contains the companies rated as C\n",
    "base_dir_c = \"C:\\\\Users\\\\nourd\\\\OneDrive\\\\Documents\\\\Master of Research\\\\Thesis - Master\\\\Water Reports\\\\C\""
   ]
  },
  {
   "cell_type": "code",
   "execution_count": 15,
   "id": "1da2c982-1a72-4cef-a76f-733ffbe7a189",
   "metadata": {},
   "outputs": [],
   "source": [
    "for company_folder in os.listdir(base_dir_c): \n",
    "    company_path = os.path.join(base_dir_c, company_folder) \n",
    "    # validate that it is a directory: \n",
    "    if os.path.isdir(company_path): \n",
    "        #iterate through files inside the company files \n",
    "        for file_name in os.listdir(company_path): \n",
    "            file_path = os.path.join(company_path, file_name) \n",
    "\n",
    "            # process only pdfs \n",
    "            if file_name.lower().endswith(\".pdf\"): \n",
    "                text = \"\" \n",
    "                with fitz.open(file_path) as doc: \n",
    "                    for page in doc: \n",
    "                        text += page.get_text() \n",
    "            # Append row to DataFrame\n",
    "                text_dataframe = pd.concat([text_dataframe, pd.DataFrame([{\n",
    "                    \"Doc ID\": doc_id,\n",
    "                    \"Company Name\": company_folder,\n",
    "                    \"File Name\": file_name,\n",
    "                    \"Text\": text,\n",
    "                    \"Rating\": \"C\"\n",
    "                }])], ignore_index=True) \n",
    "        doc_id += 1 "
   ]
  },
  {
   "cell_type": "markdown",
   "id": "a8ddccdc-d55f-4f20-b378-5177b00fd7cc",
   "metadata": {},
   "source": [
    "### Rating D"
   ]
  },
  {
   "cell_type": "code",
   "execution_count": 16,
   "id": "d5cbbe73-6727-410d-b0c8-7ebad656ffb6",
   "metadata": {},
   "outputs": [],
   "source": [
    "### define the directory that contains the companies rated as D\n",
    "base_dir_d = \"C:\\\\Users\\\\nourd\\\\OneDrive\\\\Documents\\\\Master of Research\\\\Thesis - Master\\\\Water Reports\\\\D\""
   ]
  },
  {
   "cell_type": "code",
   "execution_count": 17,
   "id": "3ffb91b5-4c34-4910-9136-0f18ea50192f",
   "metadata": {},
   "outputs": [],
   "source": [
    "for company_folder in os.listdir(base_dir_d): \n",
    "    company_path = os.path.join(base_dir_d, company_folder) \n",
    "    # validate that it is a directory: \n",
    "    if os.path.isdir(company_path): \n",
    "        #iterate through files inside the company files \n",
    "        for file_name in os.listdir(company_path): \n",
    "            file_path = os.path.join(company_path, file_name) \n",
    "\n",
    "            # process only pdfs \n",
    "            if file_name.lower().endswith(\".pdf\"): \n",
    "                text = \"\" \n",
    "                with fitz.open(file_path) as doc: \n",
    "                    for page in doc: \n",
    "                        text += page.get_text() \n",
    "            # Append row to DataFrame\n",
    "                text_dataframe = pd.concat([text_dataframe, pd.DataFrame([{\n",
    "                    \"Doc ID\": doc_id,\n",
    "                    \"Company Name\": company_folder,\n",
    "                    \"File Name\": file_name,\n",
    "                    \"Text\": text,\n",
    "                    \"Rating\": \"D\"\n",
    "                }])], ignore_index=True) \n",
    "        doc_id += 1 "
   ]
  },
  {
   "cell_type": "code",
   "execution_count": 18,
   "id": "ed9a116c-0619-4985-9f0a-70396408cc28",
   "metadata": {},
   "outputs": [
    {
     "data": {
      "text/html": [
       "<div>\n",
       "<style scoped>\n",
       "    .dataframe tbody tr th:only-of-type {\n",
       "        vertical-align: middle;\n",
       "    }\n",
       "\n",
       "    .dataframe tbody tr th {\n",
       "        vertical-align: top;\n",
       "    }\n",
       "\n",
       "    .dataframe thead th {\n",
       "        text-align: right;\n",
       "    }\n",
       "</style>\n",
       "<table border=\"1\" class=\"dataframe\">\n",
       "  <thead>\n",
       "    <tr style=\"text-align: right;\">\n",
       "      <th></th>\n",
       "      <th>Doc ID</th>\n",
       "      <th>Company Name</th>\n",
       "      <th>File Name</th>\n",
       "      <th>Rating</th>\n",
       "      <th>Text</th>\n",
       "    </tr>\n",
       "  </thead>\n",
       "  <tbody>\n",
       "    <tr>\n",
       "      <th>0</th>\n",
       "      <td>1</td>\n",
       "      <td>ACCIONA S.A</td>\n",
       "      <td>ACCIONA S.A_2021.pdf</td>\n",
       "      <td>A</td>\n",
       "      <td>S\\nU\\nS\\nT\\nA\\nI\\nN\\nA\\nB\\nI\\nL\\nI\\nT\\nY\\n \\n ...</td>\n",
       "    </tr>\n",
       "    <tr>\n",
       "      <th>1</th>\n",
       "      <td>1</td>\n",
       "      <td>ACCIONA S.A</td>\n",
       "      <td>ACCIONA S.A_2022.pdf</td>\n",
       "      <td>A</td>\n",
       "      <td>S U S T A I N A B I L I T Y  R E P O R T\\nACCI...</td>\n",
       "    </tr>\n",
       "    <tr>\n",
       "      <th>2</th>\n",
       "      <td>1</td>\n",
       "      <td>ACCIONA S.A</td>\n",
       "      <td>ACCIONA S.A_2023.pdf</td>\n",
       "      <td>A</td>\n",
       "      <td>\\n \\nSUSTAINABILITY \\nREPORT \\n20 \\n23 \\n2 \\n...</td>\n",
       "    </tr>\n",
       "    <tr>\n",
       "      <th>3</th>\n",
       "      <td>1</td>\n",
       "      <td>ACCIONA S.A</td>\n",
       "      <td>ACCIONA S.A_2024.pdf</td>\n",
       "      <td>A</td>\n",
       "      <td>2024 Sustainability Report \\nACCIONA \\n1 \\nSUS...</td>\n",
       "    </tr>\n",
       "    <tr>\n",
       "      <th>4</th>\n",
       "      <td>2</td>\n",
       "      <td>Kirin Holdings Co Ltd</td>\n",
       "      <td>Kirin Holdings Co Ltd_2021.pdf</td>\n",
       "      <td>A</td>\n",
       "      <td>Environmental Report 2021\\n2021.10\\n2\\nMessage...</td>\n",
       "    </tr>\n",
       "  </tbody>\n",
       "</table>\n",
       "</div>"
      ],
      "text/plain": [
       "  Doc ID           Company Name                       File Name Rating  \\\n",
       "0      1            ACCIONA S.A            ACCIONA S.A_2021.pdf      A   \n",
       "1      1            ACCIONA S.A            ACCIONA S.A_2022.pdf      A   \n",
       "2      1            ACCIONA S.A            ACCIONA S.A_2023.pdf      A   \n",
       "3      1            ACCIONA S.A            ACCIONA S.A_2024.pdf      A   \n",
       "4      2  Kirin Holdings Co Ltd  Kirin Holdings Co Ltd_2021.pdf      A   \n",
       "\n",
       "                                                Text  \n",
       "0  S\\nU\\nS\\nT\\nA\\nI\\nN\\nA\\nB\\nI\\nL\\nI\\nT\\nY\\n \\n ...  \n",
       "1  S U S T A I N A B I L I T Y  R E P O R T\\nACCI...  \n",
       "2   \\n \\nSUSTAINABILITY \\nREPORT \\n20 \\n23 \\n2 \\n...  \n",
       "3  2024 Sustainability Report \\nACCIONA \\n1 \\nSUS...  \n",
       "4  Environmental Report 2021\\n2021.10\\n2\\nMessage...  "
      ]
     },
     "execution_count": 18,
     "metadata": {},
     "output_type": "execute_result"
    }
   ],
   "source": [
    "### The overall dataframe \n",
    "text_dataframe.head()"
   ]
  },
  {
   "cell_type": "markdown",
   "id": "ca2571bc-06cc-45cc-8ae1-8cf5c70e1219",
   "metadata": {},
   "source": [
    "If we use the whole text in the report, we run into two problems: \n",
    "* Using Climate BERT on the text, we are evaluating the performance of the company's sustainability in general, so remediate that I propose the we take the text where water is mentioned and also making sure to take the context, before and after.\n",
    "* In our reference research paper **Kang, H., & Kim, J. (2022)**, they have taken the sustainability reports, which further warrants the need for specificity. As most of the extracted reports are annual reports and water reports are absent.  "
   ]
  },
  {
   "cell_type": "code",
   "execution_count": 19,
   "id": "c3da6be7-2e1d-4dd1-81f8-6b7e6f143843",
   "metadata": {},
   "outputs": [],
   "source": [
    "### define the function that can help us extract water information \n",
    "def extract_water_context(text):\n",
    "    if not isinstance(text, str):  # safety check\n",
    "        return \"\"\n",
    "    \n",
    "    lines = text.splitlines()\n",
    "    water_data = []\n",
    "\n",
    "    for i, line in enumerate(lines):\n",
    "        if \"water\" in line.lower():\n",
    "            # Get 5 lines before and after\n",
    "            start = max(i-5, 0)\n",
    "            end = min(i+5, len(lines))  # +5 because end is exclusive\n",
    "            context = \"\\n\".join(lines[start:end])\n",
    "            water_data.append(context)\n",
    "\n",
    "    # Combine all contexts for this document\n",
    "    return \"\\n\\n---\\n\\n\".join(water_data) "
   ]
  },
  {
   "cell_type": "code",
   "execution_count": 20,
   "id": "23d23a3a-c6c3-4089-bd78-7991fcede09a",
   "metadata": {},
   "outputs": [],
   "source": [
    "## create new column where we apply the fucntion on the 'Text' column \n",
    "# Apply to the \"Text\" column, store result in a new column\n",
    "text_dataframe[\"Water Extract\"] = text_dataframe[\"Text\"].apply(extract_water_context)"
   ]
  },
  {
   "cell_type": "code",
   "execution_count": 21,
   "id": "b779c357-07ac-449d-9147-7217cbad2110",
   "metadata": {},
   "outputs": [
    {
     "data": {
      "text/html": [
       "<div>\n",
       "<style scoped>\n",
       "    .dataframe tbody tr th:only-of-type {\n",
       "        vertical-align: middle;\n",
       "    }\n",
       "\n",
       "    .dataframe tbody tr th {\n",
       "        vertical-align: top;\n",
       "    }\n",
       "\n",
       "    .dataframe thead th {\n",
       "        text-align: right;\n",
       "    }\n",
       "</style>\n",
       "<table border=\"1\" class=\"dataframe\">\n",
       "  <thead>\n",
       "    <tr style=\"text-align: right;\">\n",
       "      <th></th>\n",
       "      <th>Doc ID</th>\n",
       "      <th>Company Name</th>\n",
       "      <th>File Name</th>\n",
       "      <th>Rating</th>\n",
       "      <th>Text</th>\n",
       "      <th>Water Extract</th>\n",
       "    </tr>\n",
       "  </thead>\n",
       "  <tbody>\n",
       "    <tr>\n",
       "      <th>0</th>\n",
       "      <td>1</td>\n",
       "      <td>ACCIONA S.A</td>\n",
       "      <td>ACCIONA S.A_2021.pdf</td>\n",
       "      <td>A</td>\n",
       "      <td>S\\nU\\nS\\nT\\nA\\nI\\nN\\nA\\nB\\nI\\nL\\nI\\nT\\nY\\n \\n ...</td>\n",
       "      <td>reduced the fossil energy consumption by 83% c...</td>\n",
       "    </tr>\n",
       "    <tr>\n",
       "      <th>1</th>\n",
       "      <td>1</td>\n",
       "      <td>ACCIONA S.A</td>\n",
       "      <td>ACCIONA S.A_2022.pdf</td>\n",
       "      <td>A</td>\n",
       "      <td>S U S T A I N A B I L I T Y  R E P O R T\\nACCI...</td>\n",
       "      <td>brand, we began a journey that has made us tod...</td>\n",
       "    </tr>\n",
       "    <tr>\n",
       "      <th>2</th>\n",
       "      <td>1</td>\n",
       "      <td>ACCIONA S.A</td>\n",
       "      <td>ACCIONA S.A_2023.pdf</td>\n",
       "      <td>A</td>\n",
       "      <td>\\n \\nSUSTAINABILITY \\nREPORT \\n20 \\n23 \\n2 \\n...</td>\n",
       "      <td>sustainability. \\n \\n     ACCIONA in 100 words...</td>\n",
       "    </tr>\n",
       "    <tr>\n",
       "      <th>3</th>\n",
       "      <td>1</td>\n",
       "      <td>ACCIONA S.A</td>\n",
       "      <td>ACCIONA S.A_2024.pdf</td>\n",
       "      <td>A</td>\n",
       "      <td>2024 Sustainability Report \\nACCIONA \\n1 \\nSUS...</td>\n",
       "      <td>\\n01. Designing a better planet \\n02. Sustain...</td>\n",
       "    </tr>\n",
       "    <tr>\n",
       "      <th>4</th>\n",
       "      <td>2</td>\n",
       "      <td>Kirin Holdings Co Ltd</td>\n",
       "      <td>Kirin Holdings Co Ltd_2021.pdf</td>\n",
       "      <td>A</td>\n",
       "      <td>Environmental Report 2021\\n2021.10\\n2\\nMessage...</td>\n",
       "      <td>Activity\\nGovernance  Risk Management\\nEnviron...</td>\n",
       "    </tr>\n",
       "  </tbody>\n",
       "</table>\n",
       "</div>"
      ],
      "text/plain": [
       "  Doc ID           Company Name                       File Name Rating  \\\n",
       "0      1            ACCIONA S.A            ACCIONA S.A_2021.pdf      A   \n",
       "1      1            ACCIONA S.A            ACCIONA S.A_2022.pdf      A   \n",
       "2      1            ACCIONA S.A            ACCIONA S.A_2023.pdf      A   \n",
       "3      1            ACCIONA S.A            ACCIONA S.A_2024.pdf      A   \n",
       "4      2  Kirin Holdings Co Ltd  Kirin Holdings Co Ltd_2021.pdf      A   \n",
       "\n",
       "                                                Text  \\\n",
       "0  S\\nU\\nS\\nT\\nA\\nI\\nN\\nA\\nB\\nI\\nL\\nI\\nT\\nY\\n \\n ...   \n",
       "1  S U S T A I N A B I L I T Y  R E P O R T\\nACCI...   \n",
       "2   \\n \\nSUSTAINABILITY \\nREPORT \\n20 \\n23 \\n2 \\n...   \n",
       "3  2024 Sustainability Report \\nACCIONA \\n1 \\nSUS...   \n",
       "4  Environmental Report 2021\\n2021.10\\n2\\nMessage...   \n",
       "\n",
       "                                       Water Extract  \n",
       "0  reduced the fossil energy consumption by 83% c...  \n",
       "1  brand, we began a journey that has made us tod...  \n",
       "2  sustainability. \\n \\n     ACCIONA in 100 words...  \n",
       "3   \\n01. Designing a better planet \\n02. Sustain...  \n",
       "4  Activity\\nGovernance  Risk Management\\nEnviron...  "
      ]
     },
     "execution_count": 21,
     "metadata": {},
     "output_type": "execute_result"
    }
   ],
   "source": [
    "text_dataframe.head()"
   ]
  },
  {
   "cell_type": "markdown",
   "id": "e3e104d9-e00d-451b-bc0b-f28fd7808033",
   "metadata": {},
   "source": [
    "### Text Preprocessing "
   ]
  },
  {
   "cell_type": "markdown",
   "id": "daf6c5b5-723f-4327-84ac-a6f32095fb89",
   "metadata": {},
   "source": [
    "Text data is usually dealt with automatically in the case of Transformer based models. However, we can clear out the unicode characters for example and and normalize white spaces => multiple white spaces are converted to one. "
   ]
  },
  {
   "cell_type": "markdown",
   "id": "0bfcdb5b-eb74-4c15-8787-a59caf548d95",
   "metadata": {},
   "source": [
    "Later we will make sure to split the text into sentences. "
   ]
  },
  {
   "cell_type": "code",
   "execution_count": 22,
   "id": "735c08bd-2d00-4122-b92d-8e7c3969a995",
   "metadata": {},
   "outputs": [],
   "source": [
    "import re"
   ]
  },
  {
   "cell_type": "code",
   "execution_count": 23,
   "id": "ab61d671-3ad6-4127-8d1d-6219a4683f56",
   "metadata": {},
   "outputs": [],
   "source": [
    "def clean_text(text: str) -> str:\n",
    "    \"\"\"\n",
    "    Light preprocessing for Sentence-BERT.\n",
    "    Keeps semantic meaning while removing noise.\n",
    "    \"\"\"\n",
    "    # Remove URLs\n",
    "    text = re.sub(r'http\\S+|www\\S+', '', text)\n",
    "    \n",
    "    # Remove HTML tags\n",
    "    text = re.sub(r'<.*?>', '', text)\n",
    "    \n",
    "    # Normalize whitespace\n",
    "    text = re.sub(r'\\s+', ' ', text).strip()\n",
    "    \n",
    "    # Remove weird unicode characters (like \\xa0, \\u200b)\n",
    "    text = text.encode(\"ascii\", \"ignore\").decode()\n",
    "    \n",
    "    return text "
   ]
  },
  {
   "cell_type": "code",
   "execution_count": 24,
   "id": "3c0fadb5-ec8d-4d0a-81a9-9c22684a78cc",
   "metadata": {},
   "outputs": [],
   "source": [
    "### apply the cleaning fucntion to the water extract \n",
    "text_dataframe[\"Water Extract\"] = text_dataframe[\"Water Extract\"].apply(clean_text)"
   ]
  },
  {
   "cell_type": "markdown",
   "id": "79a86255-5662-41e4-8f5c-6b5d738cf5e7",
   "metadata": {},
   "source": [
    "Split the column into sentences using  **sent_toknize**"
   ]
  },
  {
   "cell_type": "code",
   "execution_count": 25,
   "id": "802a77c5-9376-4ad3-b855-ca0ec0b5d1c7",
   "metadata": {},
   "outputs": [],
   "source": [
    "import nltk"
   ]
  },
  {
   "cell_type": "code",
   "execution_count": 26,
   "id": "058923f6-b5fe-48f3-b21e-dbaab8423165",
   "metadata": {},
   "outputs": [],
   "source": [
    "from nltk.tokenize import sent_tokenize"
   ]
  },
  {
   "cell_type": "code",
   "execution_count": 27,
   "id": "c3017111-11ab-4b39-bd02-7524d124b6b1",
   "metadata": {},
   "outputs": [
    {
     "name": "stderr",
     "output_type": "stream",
     "text": [
      "[nltk_data] Downloading package punkt_tab to\n",
      "[nltk_data]     C:\\Users\\nourd\\AppData\\Roaming\\nltk_data...\n",
      "[nltk_data]   Package punkt_tab is already up-to-date!\n"
     ]
    },
    {
     "data": {
      "text/plain": [
       "True"
      ]
     },
     "execution_count": 27,
     "metadata": {},
     "output_type": "execute_result"
    }
   ],
   "source": [
    "nltk.download('punkt_tab')"
   ]
  },
  {
   "cell_type": "markdown",
   "id": "d9d361e0-dfaa-468c-8b07-d4492ff6f828",
   "metadata": {},
   "source": [
    "**Purpose of Punkt Tokenizer**: The Punkt sentence tokenizer is an unsupervised algorithm that learns to identify sentence boundaries in a text. Unlike simpler methods that might just split on periods, **Punkt can intelligently handle abbreviations (e.g., \"Mr. Smith\"), acronyms, and other linguistic nuances to accurately determine where one sentence ends and another begins.**"
   ]
  },
  {
   "cell_type": "code",
   "execution_count": 28,
   "id": "d7973060-ebbd-40b7-8a9c-ff1900e47e18",
   "metadata": {},
   "outputs": [
    {
     "data": {
      "text/html": [
       "<div>\n",
       "<style scoped>\n",
       "    .dataframe tbody tr th:only-of-type {\n",
       "        vertical-align: middle;\n",
       "    }\n",
       "\n",
       "    .dataframe tbody tr th {\n",
       "        vertical-align: top;\n",
       "    }\n",
       "\n",
       "    .dataframe thead th {\n",
       "        text-align: right;\n",
       "    }\n",
       "</style>\n",
       "<table border=\"1\" class=\"dataframe\">\n",
       "  <thead>\n",
       "    <tr style=\"text-align: right;\">\n",
       "      <th></th>\n",
       "      <th>Doc ID</th>\n",
       "      <th>Company Name</th>\n",
       "      <th>File Name</th>\n",
       "      <th>Rating</th>\n",
       "      <th>Text</th>\n",
       "      <th>Water Extract</th>\n",
       "    </tr>\n",
       "  </thead>\n",
       "  <tbody>\n",
       "    <tr>\n",
       "      <th>0</th>\n",
       "      <td>1</td>\n",
       "      <td>ACCIONA S.A</td>\n",
       "      <td>ACCIONA S.A_2021.pdf</td>\n",
       "      <td>A</td>\n",
       "      <td>S\\nU\\nS\\nT\\nA\\nI\\nN\\nA\\nB\\nI\\nL\\nI\\nT\\nY\\n \\n ...</td>\n",
       "      <td>reduced the fossil energy consumption by 83% c...</td>\n",
       "    </tr>\n",
       "    <tr>\n",
       "      <th>1</th>\n",
       "      <td>1</td>\n",
       "      <td>ACCIONA S.A</td>\n",
       "      <td>ACCIONA S.A_2022.pdf</td>\n",
       "      <td>A</td>\n",
       "      <td>S U S T A I N A B I L I T Y  R E P O R T\\nACCI...</td>\n",
       "      <td>brand, we began a journey that has made us tod...</td>\n",
       "    </tr>\n",
       "    <tr>\n",
       "      <th>2</th>\n",
       "      <td>1</td>\n",
       "      <td>ACCIONA S.A</td>\n",
       "      <td>ACCIONA S.A_2023.pdf</td>\n",
       "      <td>A</td>\n",
       "      <td>\\n \\nSUSTAINABILITY \\nREPORT \\n20 \\n23 \\n2 \\n...</td>\n",
       "      <td>sustainability. ACCIONA in 100 words ACCIONA i...</td>\n",
       "    </tr>\n",
       "    <tr>\n",
       "      <th>3</th>\n",
       "      <td>1</td>\n",
       "      <td>ACCIONA S.A</td>\n",
       "      <td>ACCIONA S.A_2024.pdf</td>\n",
       "      <td>A</td>\n",
       "      <td>2024 Sustainability Report \\nACCIONA \\n1 \\nSUS...</td>\n",
       "      <td>01. Designing a better planet 02. Sustainabili...</td>\n",
       "    </tr>\n",
       "    <tr>\n",
       "      <th>4</th>\n",
       "      <td>2</td>\n",
       "      <td>Kirin Holdings Co Ltd</td>\n",
       "      <td>Kirin Holdings Co Ltd_2021.pdf</td>\n",
       "      <td>A</td>\n",
       "      <td>Environmental Report 2021\\n2021.10\\n2\\nMessage...</td>\n",
       "      <td>Activity Governance Risk Management Environmen...</td>\n",
       "    </tr>\n",
       "    <tr>\n",
       "      <th>...</th>\n",
       "      <td>...</td>\n",
       "      <td>...</td>\n",
       "      <td>...</td>\n",
       "      <td>...</td>\n",
       "      <td>...</td>\n",
       "      <td>...</td>\n",
       "    </tr>\n",
       "    <tr>\n",
       "      <th>91</th>\n",
       "      <td>23</td>\n",
       "      <td>Micron Technology, Inc</td>\n",
       "      <td>Micron Technology, Inc._2024.pdf</td>\n",
       "      <td>D</td>\n",
       "      <td>Sustainability \\nreport\\n2024\\nContents\\n3\\t I...</td>\n",
       "      <td>23 Increasing energy efficiency 24 Unlocking i...</td>\n",
       "    </tr>\n",
       "    <tr>\n",
       "      <th>92</th>\n",
       "      <td>24</td>\n",
       "      <td>Teck Resources Limited</td>\n",
       "      <td>Teck Resources Limited_2021.pdf</td>\n",
       "      <td>D</td>\n",
       "      <td>PURPOSE\\nDRIVEN\\n2021\\nSUSTAINABILITY\\nREPORT\\...</td>\n",
       "      <td>Air Quality  Biodiversity and Reclamation  Cl...</td>\n",
       "    </tr>\n",
       "    <tr>\n",
       "      <th>93</th>\n",
       "      <td>24</td>\n",
       "      <td>Teck Resources Limited</td>\n",
       "      <td>Teck Resources Limited_2022.pdf</td>\n",
       "      <td>D</td>\n",
       "      <td>2022\\nSUSTAINABILITY\\nREPORT\\nPURPOSE\\nIN ACTI...</td>\n",
       "      <td>Air Quality  Biodiversity and Closure  Climat...</td>\n",
       "    </tr>\n",
       "    <tr>\n",
       "      <th>94</th>\n",
       "      <td>24</td>\n",
       "      <td>Teck Resources Limited</td>\n",
       "      <td>Teck Resources Limited_2023.pdf</td>\n",
       "      <td>D</td>\n",
       "      <td>2023\\nSUSTAINABILITY\\nREPORT\\n2\\nTeck 2023 Sus...</td>\n",
       "      <td>Air Quality 13  Biodiversity and Closure 18  ...</td>\n",
       "    </tr>\n",
       "    <tr>\n",
       "      <th>95</th>\n",
       "      <td>24</td>\n",
       "      <td>Teck Resources Limited</td>\n",
       "      <td>Teck Resources Limited_2024.pdf</td>\n",
       "      <td>D</td>\n",
       "      <td>2024\\nSUSTAINABILITY REPORT\\nOUR PURPOSE\\nTo p...</td>\n",
       "      <td>26 Climate Change 36 Relationships with Commun...</td>\n",
       "    </tr>\n",
       "  </tbody>\n",
       "</table>\n",
       "<p>96 rows × 6 columns</p>\n",
       "</div>"
      ],
      "text/plain": [
       "   Doc ID            Company Name                         File Name Rating  \\\n",
       "0       1             ACCIONA S.A              ACCIONA S.A_2021.pdf      A   \n",
       "1       1             ACCIONA S.A              ACCIONA S.A_2022.pdf      A   \n",
       "2       1             ACCIONA S.A              ACCIONA S.A_2023.pdf      A   \n",
       "3       1             ACCIONA S.A              ACCIONA S.A_2024.pdf      A   \n",
       "4       2   Kirin Holdings Co Ltd    Kirin Holdings Co Ltd_2021.pdf      A   \n",
       "..    ...                     ...                               ...    ...   \n",
       "91     23  Micron Technology, Inc  Micron Technology, Inc._2024.pdf      D   \n",
       "92     24  Teck Resources Limited   Teck Resources Limited_2021.pdf      D   \n",
       "93     24  Teck Resources Limited   Teck Resources Limited_2022.pdf      D   \n",
       "94     24  Teck Resources Limited   Teck Resources Limited_2023.pdf      D   \n",
       "95     24  Teck Resources Limited   Teck Resources Limited_2024.pdf      D   \n",
       "\n",
       "                                                 Text  \\\n",
       "0   S\\nU\\nS\\nT\\nA\\nI\\nN\\nA\\nB\\nI\\nL\\nI\\nT\\nY\\n \\n ...   \n",
       "1   S U S T A I N A B I L I T Y  R E P O R T\\nACCI...   \n",
       "2    \\n \\nSUSTAINABILITY \\nREPORT \\n20 \\n23 \\n2 \\n...   \n",
       "3   2024 Sustainability Report \\nACCIONA \\n1 \\nSUS...   \n",
       "4   Environmental Report 2021\\n2021.10\\n2\\nMessage...   \n",
       "..                                                ...   \n",
       "91  Sustainability \\nreport\\n2024\\nContents\\n3\\t I...   \n",
       "92  PURPOSE\\nDRIVEN\\n2021\\nSUSTAINABILITY\\nREPORT\\...   \n",
       "93  2022\\nSUSTAINABILITY\\nREPORT\\nPURPOSE\\nIN ACTI...   \n",
       "94  2023\\nSUSTAINABILITY\\nREPORT\\n2\\nTeck 2023 Sus...   \n",
       "95  2024\\nSUSTAINABILITY REPORT\\nOUR PURPOSE\\nTo p...   \n",
       "\n",
       "                                        Water Extract  \n",
       "0   reduced the fossil energy consumption by 83% c...  \n",
       "1   brand, we began a journey that has made us tod...  \n",
       "2   sustainability. ACCIONA in 100 words ACCIONA i...  \n",
       "3   01. Designing a better planet 02. Sustainabili...  \n",
       "4   Activity Governance Risk Management Environmen...  \n",
       "..                                                ...  \n",
       "91  23 Increasing energy efficiency 24 Unlocking i...  \n",
       "92   Air Quality  Biodiversity and Reclamation  Cl...  \n",
       "93   Air Quality  Biodiversity and Closure  Climat...  \n",
       "94   Air Quality 13  Biodiversity and Closure 18  ...  \n",
       "95  26 Climate Change 36 Relationships with Commun...  \n",
       "\n",
       "[96 rows x 6 columns]"
      ]
     },
     "execution_count": 28,
     "metadata": {},
     "output_type": "execute_result"
    }
   ],
   "source": [
    "text_dataframe"
   ]
  },
  {
   "cell_type": "code",
   "execution_count": 29,
   "id": "971df71c-7d8e-4b2a-be9c-27ddf51d013d",
   "metadata": {},
   "outputs": [],
   "source": [
    "text_dataframe['sentences'] = text_dataframe['Water Extract'].apply(sent_tokenize)"
   ]
  },
  {
   "cell_type": "code",
   "execution_count": 30,
   "id": "87064442-0335-4143-bb1e-6acdd501515b",
   "metadata": {},
   "outputs": [],
   "source": [
    "# remove the 'Text' column \n",
    "text_dataframe_water = text_dataframe.drop(columns = 'Text')"
   ]
  },
  {
   "cell_type": "code",
   "execution_count": 31,
   "id": "a87e810a-f81c-4b72-b815-198d39d7553c",
   "metadata": {},
   "outputs": [
    {
     "data": {
      "text/html": [
       "<div>\n",
       "<style scoped>\n",
       "    .dataframe tbody tr th:only-of-type {\n",
       "        vertical-align: middle;\n",
       "    }\n",
       "\n",
       "    .dataframe tbody tr th {\n",
       "        vertical-align: top;\n",
       "    }\n",
       "\n",
       "    .dataframe thead th {\n",
       "        text-align: right;\n",
       "    }\n",
       "</style>\n",
       "<table border=\"1\" class=\"dataframe\">\n",
       "  <thead>\n",
       "    <tr style=\"text-align: right;\">\n",
       "      <th></th>\n",
       "      <th>Doc ID</th>\n",
       "      <th>Company Name</th>\n",
       "      <th>File Name</th>\n",
       "      <th>Rating</th>\n",
       "      <th>Water Extract</th>\n",
       "      <th>sentences</th>\n",
       "    </tr>\n",
       "  </thead>\n",
       "  <tbody>\n",
       "    <tr>\n",
       "      <th>0</th>\n",
       "      <td>1</td>\n",
       "      <td>ACCIONA S.A</td>\n",
       "      <td>ACCIONA S.A_2021.pdf</td>\n",
       "      <td>A</td>\n",
       "      <td>reduced the fossil energy consumption by 83% c...</td>\n",
       "      <td>[reduced the fossil energy consumption by 83% ...</td>\n",
       "    </tr>\n",
       "    <tr>\n",
       "      <th>1</th>\n",
       "      <td>1</td>\n",
       "      <td>ACCIONA S.A</td>\n",
       "      <td>ACCIONA S.A_2022.pdf</td>\n",
       "      <td>A</td>\n",
       "      <td>brand, we began a journey that has made us tod...</td>\n",
       "      <td>[brand, we began a journey that has made us to...</td>\n",
       "    </tr>\n",
       "    <tr>\n",
       "      <th>2</th>\n",
       "      <td>1</td>\n",
       "      <td>ACCIONA S.A</td>\n",
       "      <td>ACCIONA S.A_2023.pdf</td>\n",
       "      <td>A</td>\n",
       "      <td>sustainability. ACCIONA in 100 words ACCIONA i...</td>\n",
       "      <td>[sustainability., ACCIONA in 100 words ACCIONA...</td>\n",
       "    </tr>\n",
       "    <tr>\n",
       "      <th>3</th>\n",
       "      <td>1</td>\n",
       "      <td>ACCIONA S.A</td>\n",
       "      <td>ACCIONA S.A_2024.pdf</td>\n",
       "      <td>A</td>\n",
       "      <td>01. Designing a better planet 02. Sustainabili...</td>\n",
       "      <td>[01., Designing a better planet 02., Sustainab...</td>\n",
       "    </tr>\n",
       "    <tr>\n",
       "      <th>4</th>\n",
       "      <td>2</td>\n",
       "      <td>Kirin Holdings Co Ltd</td>\n",
       "      <td>Kirin Holdings Co Ltd_2021.pdf</td>\n",
       "      <td>A</td>\n",
       "      <td>Activity Governance Risk Management Environmen...</td>\n",
       "      <td>[Activity Governance Risk Management Environme...</td>\n",
       "    </tr>\n",
       "  </tbody>\n",
       "</table>\n",
       "</div>"
      ],
      "text/plain": [
       "  Doc ID           Company Name                       File Name Rating  \\\n",
       "0      1            ACCIONA S.A            ACCIONA S.A_2021.pdf      A   \n",
       "1      1            ACCIONA S.A            ACCIONA S.A_2022.pdf      A   \n",
       "2      1            ACCIONA S.A            ACCIONA S.A_2023.pdf      A   \n",
       "3      1            ACCIONA S.A            ACCIONA S.A_2024.pdf      A   \n",
       "4      2  Kirin Holdings Co Ltd  Kirin Holdings Co Ltd_2021.pdf      A   \n",
       "\n",
       "                                       Water Extract  \\\n",
       "0  reduced the fossil energy consumption by 83% c...   \n",
       "1  brand, we began a journey that has made us tod...   \n",
       "2  sustainability. ACCIONA in 100 words ACCIONA i...   \n",
       "3  01. Designing a better planet 02. Sustainabili...   \n",
       "4  Activity Governance Risk Management Environmen...   \n",
       "\n",
       "                                           sentences  \n",
       "0  [reduced the fossil energy consumption by 83% ...  \n",
       "1  [brand, we began a journey that has made us to...  \n",
       "2  [sustainability., ACCIONA in 100 words ACCIONA...  \n",
       "3  [01., Designing a better planet 02., Sustainab...  \n",
       "4  [Activity Governance Risk Management Environme...  "
      ]
     },
     "execution_count": 31,
     "metadata": {},
     "output_type": "execute_result"
    }
   ],
   "source": [
    "text_dataframe_water.head()"
   ]
  },
  {
   "cell_type": "code",
   "execution_count": 94,
   "id": "53335eb8-64be-474d-8b55-f5ebc29e3729",
   "metadata": {},
   "outputs": [
    {
     "data": {
      "text/html": [
       "<div>\n",
       "<style scoped>\n",
       "    .dataframe tbody tr th:only-of-type {\n",
       "        vertical-align: middle;\n",
       "    }\n",
       "\n",
       "    .dataframe tbody tr th {\n",
       "        vertical-align: top;\n",
       "    }\n",
       "\n",
       "    .dataframe thead th {\n",
       "        text-align: right;\n",
       "    }\n",
       "</style>\n",
       "<table border=\"1\" class=\"dataframe\">\n",
       "  <thead>\n",
       "    <tr style=\"text-align: right;\">\n",
       "      <th></th>\n",
       "      <th>Company</th>\n",
       "      <th>Water</th>\n",
       "      <th>Organization</th>\n",
       "      <th>Country</th>\n",
       "      <th>Primary sector</th>\n",
       "      <th>Primary industry</th>\n",
       "      <th>Report_Downloaded</th>\n",
       "      <th>Ticker</th>\n",
       "      <th>Downloaded (Y/N)</th>\n",
       "      <th>2024</th>\n",
       "      <th>2023</th>\n",
       "      <th>2022</th>\n",
       "      <th>2021</th>\n",
       "      <th>Notes</th>\n",
       "    </tr>\n",
       "  </thead>\n",
       "  <tbody>\n",
       "    <tr>\n",
       "      <th>0</th>\n",
       "      <td>Kirin Holdings Co Ltd</td>\n",
       "      <td>A</td>\n",
       "      <td>Kirin Holdings Co Ltd</td>\n",
       "      <td>Japan</td>\n",
       "      <td>Food &amp; beverage processing</td>\n",
       "      <td>Food, beverage &amp; agriculture</td>\n",
       "      <td>True</td>\n",
       "      <td>KIR.MU</td>\n",
       "      <td>False</td>\n",
       "      <td>True</td>\n",
       "      <td>True</td>\n",
       "      <td>True</td>\n",
       "      <td>True</td>\n",
       "      <td>environmental reports</td>\n",
       "    </tr>\n",
       "    <tr>\n",
       "      <th>1</th>\n",
       "      <td>PTT Global Chemical</td>\n",
       "      <td>A</td>\n",
       "      <td>PTT Global Chemical</td>\n",
       "      <td>Thailand</td>\n",
       "      <td>Oil &amp; gas processing</td>\n",
       "      <td>Fossil Fuels</td>\n",
       "      <td>False</td>\n",
       "      <td>GCB1.F</td>\n",
       "      <td>False</td>\n",
       "      <td>True</td>\n",
       "      <td>True</td>\n",
       "      <td>True</td>\n",
       "      <td>True</td>\n",
       "      <td>NaN</td>\n",
       "    </tr>\n",
       "    <tr>\n",
       "      <th>2</th>\n",
       "      <td>NSK Ltd.</td>\n",
       "      <td>A</td>\n",
       "      <td>NSK Ltd.</td>\n",
       "      <td>Japan</td>\n",
       "      <td>Metal products manufacturing</td>\n",
       "      <td>Manufacturing</td>\n",
       "      <td>False</td>\n",
       "      <td>6471.T</td>\n",
       "      <td>False</td>\n",
       "      <td>True</td>\n",
       "      <td>True</td>\n",
       "      <td>True</td>\n",
       "      <td>True</td>\n",
       "      <td>NaN</td>\n",
       "    </tr>\n",
       "    <tr>\n",
       "      <th>3</th>\n",
       "      <td>ÇİMSA ÇİMENTO SANAYİ VE TİCARET A.Ş.</td>\n",
       "      <td>A</td>\n",
       "      <td>ÇİMSA ÇİMENTO SANAYİ VE TİCARET A.Ş.</td>\n",
       "      <td>Turkey</td>\n",
       "      <td>Cement &amp; concrete</td>\n",
       "      <td>Materials</td>\n",
       "      <td>False</td>\n",
       "      <td>CIMSA.IS</td>\n",
       "      <td>False</td>\n",
       "      <td>True</td>\n",
       "      <td>True</td>\n",
       "      <td>True</td>\n",
       "      <td>True</td>\n",
       "      <td>NaN</td>\n",
       "    </tr>\n",
       "    <tr>\n",
       "      <th>4</th>\n",
       "      <td>Tech Mahindra</td>\n",
       "      <td>A</td>\n",
       "      <td>Tech Mahindra</td>\n",
       "      <td>India</td>\n",
       "      <td>IT &amp; software development</td>\n",
       "      <td>Services</td>\n",
       "      <td>True</td>\n",
       "      <td>TECHM.BO</td>\n",
       "      <td>False</td>\n",
       "      <td>True</td>\n",
       "      <td>True</td>\n",
       "      <td>True</td>\n",
       "      <td>True</td>\n",
       "      <td>NaN</td>\n",
       "    </tr>\n",
       "  </tbody>\n",
       "</table>\n",
       "</div>"
      ],
      "text/plain": [
       "                                Company Water  \\\n",
       "0                 Kirin Holdings Co Ltd     A   \n",
       "1                   PTT Global Chemical     A   \n",
       "2                              NSK Ltd.     A   \n",
       "3  ÇİMSA ÇİMENTO SANAYİ VE TİCARET A.Ş.     A   \n",
       "4                         Tech Mahindra     A   \n",
       "\n",
       "                           Organization   Country  \\\n",
       "0                 Kirin Holdings Co Ltd     Japan   \n",
       "1                   PTT Global Chemical  Thailand   \n",
       "2                              NSK Ltd.     Japan   \n",
       "3  ÇİMSA ÇİMENTO SANAYİ VE TİCARET A.Ş.    Turkey   \n",
       "4                         Tech Mahindra     India   \n",
       "\n",
       "                 Primary sector              Primary industry  \\\n",
       "0    Food & beverage processing  Food, beverage & agriculture   \n",
       "1          Oil & gas processing                  Fossil Fuels   \n",
       "2  Metal products manufacturing                 Manufacturing   \n",
       "3             Cement & concrete                     Materials   \n",
       "4     IT & software development                      Services   \n",
       "\n",
       "   Report_Downloaded    Ticker  Downloaded (Y/N)   2024  2023  2022  2021  \\\n",
       "0               True    KIR.MU              False  True  True  True  True   \n",
       "1              False    GCB1.F              False  True  True  True  True   \n",
       "2              False    6471.T              False  True  True  True  True   \n",
       "3              False  CIMSA.IS              False  True  True  True  True   \n",
       "4               True  TECHM.BO              False  True  True  True  True   \n",
       "\n",
       "                  Notes   \n",
       "0  environmental reports  \n",
       "1                    NaN  \n",
       "2                    NaN  \n",
       "3                    NaN  \n",
       "4                    NaN  "
      ]
     },
     "execution_count": 94,
     "metadata": {},
     "output_type": "execute_result"
    }
   ],
   "source": [
    "#### After cleaning and preparing the dataframe, we want to add other essential columns : country and industry \n",
    "# read the enginneered dataframe from the notebook : 'Companies Dataframe Engineering' \n",
    "final_sample_companies = pd.read_excel('final_sample_companies.xlsx') \n",
    "final_sample_companies.head() "
   ]
  },
  {
   "cell_type": "code",
   "execution_count": 97,
   "id": "e7bfdbca-b62d-4b46-b4b4-96a24b28d449",
   "metadata": {},
   "outputs": [
    {
     "data": {
      "text/plain": [
       "pandas.core.frame.DataFrame"
      ]
     },
     "execution_count": 97,
     "metadata": {},
     "output_type": "execute_result"
    }
   ],
   "source": [
    "type(final_sample_companies) "
   ]
  },
  {
   "cell_type": "code",
   "execution_count": 98,
   "id": "11c3dbd7-9d73-43e5-9731-a5c1ab70aa76",
   "metadata": {},
   "outputs": [
    {
     "data": {
      "text/plain": [
       "Index([          'Company',             'Water',      'Organization',\n",
       "                 'Country',    'Primary sector',  'Primary industry',\n",
       "       'Report_Downloaded',            'Ticker', 'Downloaded (Y/N) ',\n",
       "                      2024,                2023,                2022,\n",
       "                      2021,            'Notes '],\n",
       "      dtype='object')"
      ]
     },
     "execution_count": 98,
     "metadata": {},
     "output_type": "execute_result"
    }
   ],
   "source": [
    "final_sample_companies.columns"
   ]
  },
  {
   "cell_type": "code",
   "execution_count": 100,
   "id": "b8841e21-6ca7-415f-b695-906921544af3",
   "metadata": {},
   "outputs": [],
   "source": [
    "### remove these columns: 'Report_Downloaded','Ticker','Downloaded (Y/N)','2024','2023','2022','2021','Notes' \n",
    "final_sample_companies.drop(columns = ['Report_Downloaded','Ticker','Downloaded (Y/N) ',2024,2023,2022,2021,'Notes '], inplace = True) "
   ]
  },
  {
   "cell_type": "code",
   "execution_count": 101,
   "id": "559b3018-c7d8-4335-8218-63c24b3d131b",
   "metadata": {},
   "outputs": [
    {
     "data": {
      "text/html": [
       "<div>\n",
       "<style scoped>\n",
       "    .dataframe tbody tr th:only-of-type {\n",
       "        vertical-align: middle;\n",
       "    }\n",
       "\n",
       "    .dataframe tbody tr th {\n",
       "        vertical-align: top;\n",
       "    }\n",
       "\n",
       "    .dataframe thead th {\n",
       "        text-align: right;\n",
       "    }\n",
       "</style>\n",
       "<table border=\"1\" class=\"dataframe\">\n",
       "  <thead>\n",
       "    <tr style=\"text-align: right;\">\n",
       "      <th></th>\n",
       "      <th>Company</th>\n",
       "      <th>Water</th>\n",
       "      <th>Organization</th>\n",
       "      <th>Country</th>\n",
       "      <th>Primary sector</th>\n",
       "      <th>Primary industry</th>\n",
       "    </tr>\n",
       "  </thead>\n",
       "  <tbody>\n",
       "    <tr>\n",
       "      <th>0</th>\n",
       "      <td>Kirin Holdings Co Ltd</td>\n",
       "      <td>A</td>\n",
       "      <td>Kirin Holdings Co Ltd</td>\n",
       "      <td>Japan</td>\n",
       "      <td>Food &amp; beverage processing</td>\n",
       "      <td>Food, beverage &amp; agriculture</td>\n",
       "    </tr>\n",
       "    <tr>\n",
       "      <th>1</th>\n",
       "      <td>PTT Global Chemical</td>\n",
       "      <td>A</td>\n",
       "      <td>PTT Global Chemical</td>\n",
       "      <td>Thailand</td>\n",
       "      <td>Oil &amp; gas processing</td>\n",
       "      <td>Fossil Fuels</td>\n",
       "    </tr>\n",
       "    <tr>\n",
       "      <th>2</th>\n",
       "      <td>NSK Ltd.</td>\n",
       "      <td>A</td>\n",
       "      <td>NSK Ltd.</td>\n",
       "      <td>Japan</td>\n",
       "      <td>Metal products manufacturing</td>\n",
       "      <td>Manufacturing</td>\n",
       "    </tr>\n",
       "    <tr>\n",
       "      <th>3</th>\n",
       "      <td>ÇİMSA ÇİMENTO SANAYİ VE TİCARET A.Ş.</td>\n",
       "      <td>A</td>\n",
       "      <td>ÇİMSA ÇİMENTO SANAYİ VE TİCARET A.Ş.</td>\n",
       "      <td>Turkey</td>\n",
       "      <td>Cement &amp; concrete</td>\n",
       "      <td>Materials</td>\n",
       "    </tr>\n",
       "    <tr>\n",
       "      <th>4</th>\n",
       "      <td>Tech Mahindra</td>\n",
       "      <td>A</td>\n",
       "      <td>Tech Mahindra</td>\n",
       "      <td>India</td>\n",
       "      <td>IT &amp; software development</td>\n",
       "      <td>Services</td>\n",
       "    </tr>\n",
       "  </tbody>\n",
       "</table>\n",
       "</div>"
      ],
      "text/plain": [
       "                                Company Water  \\\n",
       "0                 Kirin Holdings Co Ltd     A   \n",
       "1                   PTT Global Chemical     A   \n",
       "2                              NSK Ltd.     A   \n",
       "3  ÇİMSA ÇİMENTO SANAYİ VE TİCARET A.Ş.     A   \n",
       "4                         Tech Mahindra     A   \n",
       "\n",
       "                           Organization   Country  \\\n",
       "0                 Kirin Holdings Co Ltd     Japan   \n",
       "1                   PTT Global Chemical  Thailand   \n",
       "2                              NSK Ltd.     Japan   \n",
       "3  ÇİMSA ÇİMENTO SANAYİ VE TİCARET A.Ş.    Turkey   \n",
       "4                         Tech Mahindra     India   \n",
       "\n",
       "                 Primary sector              Primary industry  \n",
       "0    Food & beverage processing  Food, beverage & agriculture  \n",
       "1          Oil & gas processing                  Fossil Fuels  \n",
       "2  Metal products manufacturing                 Manufacturing  \n",
       "3             Cement & concrete                     Materials  \n",
       "4     IT & software development                      Services  "
      ]
     },
     "execution_count": 101,
     "metadata": {},
     "output_type": "execute_result"
    }
   ],
   "source": [
    "final_sample_companies.head() "
   ]
  },
  {
   "cell_type": "code",
   "execution_count": null,
   "id": "54934c5d-d885-4def-85ed-a7ace38c1bb5",
   "metadata": {},
   "outputs": [],
   "source": [
    "### merge the two dataframes : final_sample_companies, text_dataframe_water \n",
    "pd.merge(text_dataframe,final_sample_companies,on_left = 'Company Name',on_right= 'Company',how='left')"
   ]
  },
  {
   "cell_type": "markdown",
   "id": "b293f4ce-6a71-4027-8e7f-c1ad60abfc39",
   "metadata": {},
   "source": [
    "### Modelling "
   ]
  },
  {
   "cell_type": "markdown",
   "id": "36bb4a9c-1f31-4f3f-a7dc-3fbd382335bc",
   "metadata": {},
   "source": [
    "#### Water Stewardship Frameworks "
   ]
  },
  {
   "cell_type": "markdown",
   "id": "2982d160-502b-4dbe-a756-56f377c0c855",
   "metadata": {},
   "source": [
    "In this section, we seek to extract relevant data from the different determinents of water stewardship in its frameworks."
   ]
  },
  {
   "cell_type": "code",
   "execution_count": 32,
   "id": "488dbcfc-654b-47c8-aeb4-48436406cdbf",
   "metadata": {},
   "outputs": [],
   "source": [
    "#open the text file\n",
    "framework_text = pd.read_excel('C:\\\\Users\\\\nourd\\\\OneDrive\\\\Documents\\\\Master of Research\\\\Thesis - Master\\\\NLP Modelling\\\\Water Standards Text.xlsx', engine='openpyxl')"
   ]
  },
  {
   "cell_type": "code",
   "execution_count": 33,
   "id": "9e2c96b8-30f6-4db1-a5e6-bed8bf6252da",
   "metadata": {},
   "outputs": [
    {
     "data": {
      "text/html": [
       "<div>\n",
       "<style scoped>\n",
       "    .dataframe tbody tr th:only-of-type {\n",
       "        vertical-align: middle;\n",
       "    }\n",
       "\n",
       "    .dataframe tbody tr th {\n",
       "        vertical-align: top;\n",
       "    }\n",
       "\n",
       "    .dataframe thead th {\n",
       "        text-align: right;\n",
       "    }\n",
       "</style>\n",
       "<table border=\"1\" class=\"dataframe\">\n",
       "  <thead>\n",
       "    <tr style=\"text-align: right;\">\n",
       "      <th></th>\n",
       "      <th>Category</th>\n",
       "      <th>Framework</th>\n",
       "      <th>Text</th>\n",
       "    </tr>\n",
       "  </thead>\n",
       "  <tbody>\n",
       "    <tr>\n",
       "      <th>0</th>\n",
       "      <td>Direct Operations</td>\n",
       "      <td>The CEO Water Mandate</td>\n",
       "      <td>Virtually all business organizations, whether ...</td>\n",
       "    </tr>\n",
       "    <tr>\n",
       "      <th>1</th>\n",
       "      <td>Supply Chain and\\nWatershed Management</td>\n",
       "      <td>The CEO Water Mandate</td>\n",
       "      <td>In recent years more and more business organiz...</td>\n",
       "    </tr>\n",
       "    <tr>\n",
       "      <th>2</th>\n",
       "      <td>Collective Action</td>\n",
       "      <td>The CEO Water Mandate</td>\n",
       "      <td>While individual organizational efforts will b...</td>\n",
       "    </tr>\n",
       "    <tr>\n",
       "      <th>3</th>\n",
       "      <td>Public Policy</td>\n",
       "      <td>The CEO Water Mandate</td>\n",
       "      <td>Actions such as those proposed in this Mandate...</td>\n",
       "    </tr>\n",
       "    <tr>\n",
       "      <th>4</th>\n",
       "      <td>Community Engagement</td>\n",
       "      <td>The CEO Water Mandate</td>\n",
       "      <td>Companies operate not in a vacuum but in a bro...</td>\n",
       "    </tr>\n",
       "  </tbody>\n",
       "</table>\n",
       "</div>"
      ],
      "text/plain": [
       "                                Category               Framework  \\\n",
       "0                       Direct Operations  The CEO Water Mandate   \n",
       "1  Supply Chain and\\nWatershed Management  The CEO Water Mandate   \n",
       "2                       Collective Action  The CEO Water Mandate   \n",
       "3                           Public Policy  The CEO Water Mandate   \n",
       "4                    Community Engagement  The CEO Water Mandate   \n",
       "\n",
       "                                                Text  \n",
       "0  Virtually all business organizations, whether ...  \n",
       "1  In recent years more and more business organiz...  \n",
       "2  While individual organizational efforts will b...  \n",
       "3  Actions such as those proposed in this Mandate...  \n",
       "4  Companies operate not in a vacuum but in a bro...  "
      ]
     },
     "execution_count": 33,
     "metadata": {},
     "output_type": "execute_result"
    }
   ],
   "source": [
    "framework_text.head()"
   ]
  },
  {
   "cell_type": "code",
   "execution_count": 34,
   "id": "e0a655f0-c110-4140-970a-049999242607",
   "metadata": {},
   "outputs": [],
   "source": [
    "#split the text data into sentences \n",
    "framework_text['Sentences'] = framework_text['Text'].apply(sent_tokenize)"
   ]
  },
  {
   "cell_type": "markdown",
   "id": "63c39e53-d6b1-4fd5-a523-922e2b86a316",
   "metadata": {},
   "source": [
    "#### Modelling using Sentence Transformer "
   ]
  },
  {
   "cell_type": "code",
   "execution_count": 35,
   "id": "d9a26ada-158c-41f7-a0fd-4d381c6c0203",
   "metadata": {},
   "outputs": [],
   "source": [
    "from sentence_transformers import SentenceTransformer"
   ]
  },
  {
   "cell_type": "code",
   "execution_count": 36,
   "id": "ea271df9-5f2b-4c76-b535-8b6647f6dc2a",
   "metadata": {},
   "outputs": [],
   "source": [
    "model = SentenceTransformer(\"all-MiniLM-L6-v2\")"
   ]
  },
  {
   "cell_type": "code",
   "execution_count": 37,
   "id": "23e07142-1ad2-461e-aec8-ca3d9215095a",
   "metadata": {},
   "outputs": [],
   "source": [
    "from sklearn.metrics.pairwise import cosine_similarity"
   ]
  },
  {
   "cell_type": "code",
   "execution_count": 38,
   "id": "48f3cb2f-ebf4-4ac5-97fc-980f8704ad21",
   "metadata": {},
   "outputs": [],
   "source": [
    "from sklearn.preprocessing import MinMaxScaler"
   ]
  },
  {
   "cell_type": "code",
   "execution_count": 39,
   "id": "8d8d4dcc-e92b-4dc5-829c-357f0908c189",
   "metadata": {},
   "outputs": [],
   "source": [
    "# make sure there is no leading spaces \n",
    "framework_text.columns = framework_text.columns.str.strip()"
   ]
  },
  {
   "cell_type": "code",
   "execution_count": 40,
   "id": "de061e6b-814a-499a-858a-245277b40d8b",
   "metadata": {},
   "outputs": [],
   "source": [
    "## in the dataframe 'framework_text' we are interested in the columns 'Category','Framework','Sentences'\n",
    "reports_sentences = framework_text.groupby(['Framework','Category'])['Sentences'].apply(list).to_dict() "
   ]
  },
  {
   "cell_type": "code",
   "execution_count": 41,
   "id": "5f4da502-b78e-4255-a1d3-ca4b381afddc",
   "metadata": {},
   "outputs": [],
   "source": [
    "framework_dict = {}\n",
    "grouped = framework_text.groupby(['Framework', 'Category'])['Sentences']\n",
    "\n",
    "for (framework, category), sentences in grouped:\n",
    "    if framework not in framework_dict:\n",
    "        framework_dict[framework] = {}\n",
    "    framework_dict[framework][category] = list(sentences) "
   ]
  },
  {
   "cell_type": "code",
   "execution_count": 42,
   "id": "0c72c77b-6e92-4dee-9b77-14851845efef",
   "metadata": {},
   "outputs": [
    {
     "data": {
      "text/plain": [
       "Index(['Doc ID', 'Company Name', 'File Name', 'Rating', 'Water Extract',\n",
       "       'sentences'],\n",
       "      dtype='object')"
      ]
     },
     "execution_count": 42,
     "metadata": {},
     "output_type": "execute_result"
    }
   ],
   "source": [
    "text_dataframe_water.columns"
   ]
  },
  {
   "cell_type": "code",
   "execution_count": 43,
   "id": "fd6f40b6-d8e8-4936-922b-e2ac64ea9cb0",
   "metadata": {},
   "outputs": [],
   "source": [
    "import itertools"
   ]
  },
  {
   "cell_type": "code",
   "execution_count": 44,
   "id": "feae08de-9db5-456e-a10d-715935d584a3",
   "metadata": {},
   "outputs": [],
   "source": [
    "company_reports = list(itertools.chain.from_iterable(text_dataframe_water['sentences']))"
   ]
  },
  {
   "cell_type": "code",
   "execution_count": 45,
   "id": "295e7ba5-db2d-4890-ad41-53b4dedc8011",
   "metadata": {},
   "outputs": [],
   "source": [
    "#encode report sentences \n",
    "report_embeddings = model.encode(company_reports)"
   ]
  },
  {
   "cell_type": "code",
   "execution_count": 46,
   "id": "f84a088c-aae2-41e3-ae4b-83ed936701bd",
   "metadata": {},
   "outputs": [],
   "source": [
    "import numpy as np"
   ]
  },
  {
   "cell_type": "code",
   "execution_count": 47,
   "id": "fdf916be-6b76-4971-b881-dbf61c755920",
   "metadata": {},
   "outputs": [],
   "source": [
    "# Encode the embeddings of the frameworks\n",
    "framework_similarities = {} \n",
    "category_similarities = {}\n",
    "\n",
    "# Three-level nested dictionary: Framework → Category → Sentences\n",
    "for framework, categories in framework_dict.items():\n",
    "    framework_cat_scores = []\n",
    "\n",
    "    for category, rep_sentences in categories.items():\n",
    "        if not rep_sentences:  # Skip empty representative sentence lists\n",
    "            continue\n",
    "        \n",
    "        # Ensure rep_sentences is a list and flatten it (handles single strings or nested lists)\n",
    "        if isinstance(rep_sentences, str):\n",
    "            rep_sentences = [rep_sentences]\n",
    "        rep_sentences = [s for sublist in rep_sentences for s in (sublist if isinstance(sublist, list) else [sublist])]\n",
    "\n",
    "        try: \n",
    "            rep_embeddings = model.encode(rep_sentences) \n",
    "        except Exception as e: \n",
    "            print(f\"Encoding failed for Framework '{framework}', Category '{category}' with error: {e}\")\n",
    "            continue\n",
    "\n",
    "        # Similarity: report_sentences × representative_sentences\n",
    "        sims = cosine_similarity(report_embeddings, rep_embeddings) \n",
    "        \n",
    "        # Step 1: Average over representative sentences\n",
    "        avg_sims2 = sims.mean(axis=1)  # One score per report sentence  \n",
    "        \n",
    "        # scaling the similarity scores \n",
    "        min_score = avg_sims2.min()\n",
    "        max_score = avg_sims2.max() \n",
    "        if max_score > min_score: \n",
    "            scaled_avg_sims2 = (avg_sims2 - min_score) / (max_score - min_score) * 100 \n",
    "        else: \n",
    "            scaled_avg_sims2 = np.zeros_like(avg_sims2)\n",
    "\n",
    "        # Save per category in framework\n",
    "        framework_cat_scores.append(scaled_avg_sims2)\n",
    "\n",
    "        # Also track per category globally\n",
    "        key = (framework, category)\n",
    "        if key not in category_similarities:\n",
    "            category_similarities[key] = []\n",
    "        category_similarities[key].append(scaled_avg_sims2)\n",
    "    # Step 2: Average over categories in this Framework\n",
    "    if framework_cat_scores:  # Ensure at least one non-empty category exists\n",
    "        framework_scores = np.vstack(framework_cat_scores).mean(axis=0)\n",
    "        framework_similarities[framework] = framework_scores\n"
   ]
  },
  {
   "cell_type": "code",
   "execution_count": 48,
   "id": "286f87f4-94f6-4848-81d8-858034e5f3e2",
   "metadata": {},
   "outputs": [
    {
     "data": {
      "text/plain": [
       "{'Alliance For Water Stewardship': array([30.587032, 45.770382, 57.99886 , ..., 39.013412, 75.703354,\n",
       "        72.063156], shape=(30155,), dtype=float32),\n",
       " 'GRI 303: Water and Effluents 2018': array([27.413874, 34.94367 , 58.816917, ..., 35.248615, 59.70406 ,\n",
       "        60.831978], shape=(30155,), dtype=float32),\n",
       " 'The CEO Water Mandate': array([29.538927, 52.15993 , 55.749866, ..., 40.23433 , 67.10797 ,\n",
       "        64.56442 ], shape=(30155,), dtype=float32),\n",
       " \"WWF's Water Stewardship Ladder\": array([30.071371, 58.363415, 55.95569 , ..., 41.05647 , 72.11587 ,\n",
       "        68.15729 ], shape=(30155,), dtype=float32)}"
      ]
     },
     "execution_count": 48,
     "metadata": {},
     "output_type": "execute_result"
    }
   ],
   "source": [
    "framework_similarities"
   ]
  },
  {
   "cell_type": "code",
   "execution_count": 49,
   "id": "8821e826-2584-4499-ba4e-bb1d35fc3f22",
   "metadata": {},
   "outputs": [
    {
     "data": {
      "text/plain": [
       "dict"
      ]
     },
     "execution_count": 49,
     "metadata": {},
     "output_type": "execute_result"
    }
   ],
   "source": [
    "type(framework_similarities) "
   ]
  },
  {
   "cell_type": "code",
   "execution_count": 50,
   "id": "46b6f6b4-ff2c-4ed2-a956-241c5f1dc15e",
   "metadata": {},
   "outputs": [
    {
     "data": {
      "text/html": [
       "<div>\n",
       "<style scoped>\n",
       "    .dataframe tbody tr th:only-of-type {\n",
       "        vertical-align: middle;\n",
       "    }\n",
       "\n",
       "    .dataframe tbody tr th {\n",
       "        vertical-align: top;\n",
       "    }\n",
       "\n",
       "    .dataframe thead th {\n",
       "        text-align: right;\n",
       "    }\n",
       "</style>\n",
       "<table border=\"1\" class=\"dataframe\">\n",
       "  <thead>\n",
       "    <tr style=\"text-align: right;\">\n",
       "      <th></th>\n",
       "      <th>Doc ID</th>\n",
       "      <th>Company Name</th>\n",
       "      <th>File Name</th>\n",
       "      <th>Rating</th>\n",
       "      <th>Water Extract</th>\n",
       "      <th>sentences</th>\n",
       "    </tr>\n",
       "  </thead>\n",
       "  <tbody>\n",
       "    <tr>\n",
       "      <th>0</th>\n",
       "      <td>1</td>\n",
       "      <td>ACCIONA S.A</td>\n",
       "      <td>ACCIONA S.A_2021.pdf</td>\n",
       "      <td>A</td>\n",
       "      <td>reduced the fossil energy consumption by 83% c...</td>\n",
       "      <td>[reduced the fossil energy consumption by 83% ...</td>\n",
       "    </tr>\n",
       "    <tr>\n",
       "      <th>1</th>\n",
       "      <td>1</td>\n",
       "      <td>ACCIONA S.A</td>\n",
       "      <td>ACCIONA S.A_2022.pdf</td>\n",
       "      <td>A</td>\n",
       "      <td>brand, we began a journey that has made us tod...</td>\n",
       "      <td>[brand, we began a journey that has made us to...</td>\n",
       "    </tr>\n",
       "    <tr>\n",
       "      <th>2</th>\n",
       "      <td>1</td>\n",
       "      <td>ACCIONA S.A</td>\n",
       "      <td>ACCIONA S.A_2023.pdf</td>\n",
       "      <td>A</td>\n",
       "      <td>sustainability. ACCIONA in 100 words ACCIONA i...</td>\n",
       "      <td>[sustainability., ACCIONA in 100 words ACCIONA...</td>\n",
       "    </tr>\n",
       "    <tr>\n",
       "      <th>3</th>\n",
       "      <td>1</td>\n",
       "      <td>ACCIONA S.A</td>\n",
       "      <td>ACCIONA S.A_2024.pdf</td>\n",
       "      <td>A</td>\n",
       "      <td>01. Designing a better planet 02. Sustainabili...</td>\n",
       "      <td>[01., Designing a better planet 02., Sustainab...</td>\n",
       "    </tr>\n",
       "    <tr>\n",
       "      <th>4</th>\n",
       "      <td>2</td>\n",
       "      <td>Kirin Holdings Co Ltd</td>\n",
       "      <td>Kirin Holdings Co Ltd_2021.pdf</td>\n",
       "      <td>A</td>\n",
       "      <td>Activity Governance Risk Management Environmen...</td>\n",
       "      <td>[Activity Governance Risk Management Environme...</td>\n",
       "    </tr>\n",
       "  </tbody>\n",
       "</table>\n",
       "</div>"
      ],
      "text/plain": [
       "  Doc ID           Company Name                       File Name Rating  \\\n",
       "0      1            ACCIONA S.A            ACCIONA S.A_2021.pdf      A   \n",
       "1      1            ACCIONA S.A            ACCIONA S.A_2022.pdf      A   \n",
       "2      1            ACCIONA S.A            ACCIONA S.A_2023.pdf      A   \n",
       "3      1            ACCIONA S.A            ACCIONA S.A_2024.pdf      A   \n",
       "4      2  Kirin Holdings Co Ltd  Kirin Holdings Co Ltd_2021.pdf      A   \n",
       "\n",
       "                                       Water Extract  \\\n",
       "0  reduced the fossil energy consumption by 83% c...   \n",
       "1  brand, we began a journey that has made us tod...   \n",
       "2  sustainability. ACCIONA in 100 words ACCIONA i...   \n",
       "3  01. Designing a better planet 02. Sustainabili...   \n",
       "4  Activity Governance Risk Management Environmen...   \n",
       "\n",
       "                                           sentences  \n",
       "0  [reduced the fossil energy consumption by 83% ...  \n",
       "1  [brand, we began a journey that has made us to...  \n",
       "2  [sustainability., ACCIONA in 100 words ACCIONA...  \n",
       "3  [01., Designing a better planet 02., Sustainab...  \n",
       "4  [Activity Governance Risk Management Environme...  "
      ]
     },
     "execution_count": 50,
     "metadata": {},
     "output_type": "execute_result"
    }
   ],
   "source": [
    "text_dataframe_water.head()"
   ]
  },
  {
   "cell_type": "code",
   "execution_count": 51,
   "id": "a9afc14e-bd7a-4342-86f4-a4a62f3a0f3a",
   "metadata": {},
   "outputs": [
    {
     "data": {
      "text/plain": [
       "np.int64(30155)"
      ]
     },
     "execution_count": 51,
     "metadata": {},
     "output_type": "execute_result"
    }
   ],
   "source": [
    "# the total number of sentences \n",
    "text_dataframe_water['sentences'].apply(len).sum()"
   ]
  },
  {
   "cell_type": "code",
   "execution_count": 52,
   "id": "c2d29b2a-f6cb-422c-87a4-f1fdd9b1d947",
   "metadata": {},
   "outputs": [],
   "source": [
    "# now I want to make each sentence in a row and remove the 'Water Extract' column \n",
    "text_dataframe_water.drop(columns = 'Water Extract', inplace = True)"
   ]
  },
  {
   "cell_type": "code",
   "execution_count": 53,
   "id": "15b95a9c-0fd7-4e9d-91a4-9c4273c699d1",
   "metadata": {},
   "outputs": [],
   "source": [
    "# to make each sentence in a single row, we are going to use 'explode' function in python \n",
    "text_dataframe_water_exploded = text_dataframe_water.explode(\"sentences\") "
   ]
  },
  {
   "cell_type": "code",
   "execution_count": 54,
   "id": "ec6f5603-2179-4cca-904f-55a74a544028",
   "metadata": {},
   "outputs": [
    {
     "data": {
      "text/plain": [
       "(30157, 5)"
      ]
     },
     "execution_count": 54,
     "metadata": {},
     "output_type": "execute_result"
    }
   ],
   "source": [
    "text_dataframe_water_exploded.shape"
   ]
  },
  {
   "cell_type": "markdown",
   "id": "f877a83b-8d12-41e2-bf0d-c0381a8361df",
   "metadata": {},
   "source": [
    "## Results Exploration"
   ]
  },
  {
   "cell_type": "markdown",
   "id": "27c39f4e-478a-4b84-b931-ab718b63c0ed",
   "metadata": {},
   "source": [
    "### Comparison the similarity of the different frameworks"
   ]
  },
  {
   "cell_type": "code",
   "execution_count": 55,
   "id": "872befad-a841-464f-a36b-719704d6aed1",
   "metadata": {},
   "outputs": [],
   "source": [
    "# calculate the average for each framework \n",
    "averages = {framework : np.mean(scores) for framework,scores in framework_similarities.items()}"
   ]
  },
  {
   "cell_type": "code",
   "execution_count": 56,
   "id": "650415c9-32f0-47cc-914a-d9a029fb073d",
   "metadata": {},
   "outputs": [
    {
     "data": {
      "text/plain": [
       "{'Alliance For Water Stewardship': np.float32(52.99579),\n",
       " 'GRI 303: Water and Effluents 2018': np.float32(51.41123),\n",
       " 'The CEO Water Mandate': np.float32(50.98013),\n",
       " \"WWF's Water Stewardship Ladder\": np.float32(51.662)}"
      ]
     },
     "execution_count": 56,
     "metadata": {},
     "output_type": "execute_result"
    }
   ],
   "source": [
    "averages"
   ]
  },
  {
   "cell_type": "code",
   "execution_count": 57,
   "id": "c260dcda-7fcb-4c97-b52d-73835206e5e3",
   "metadata": {},
   "outputs": [],
   "source": [
    "import matplotlib.pyplot as plt"
   ]
  },
  {
   "cell_type": "code",
   "execution_count": 58,
   "id": "a9c07d34-264b-43ea-9f15-9b74ed24506c",
   "metadata": {},
   "outputs": [
    {
     "data": {
      "text/plain": [
       "(0.0, 100.0)"
      ]
     },
     "execution_count": 58,
     "metadata": {},
     "output_type": "execute_result"
    },
    {
     "data": {
      "image/png": "[encoded data removed]",
      "text/plain": [
       "<Figure size 1000x600 with 1 Axes>"
      ]
     },
     "metadata": {},
     "output_type": "display_data"
    }
   ],
   "source": [
    "# Plotting the averages\n",
    "plt.figure(figsize=(10, 6))\n",
    "frameworks = list(averages.keys())\n",
    "avg_values = list(averages.values()) \n",
    "\n",
    "bars = plt.bar(frameworks, avg_values, color=['#D6ECF3', '#A7D3E6', '#7BBBD9','#4FA3CC'])\n",
    "plt.title('Average Similarity Score per Framework')\n",
    "plt.ylabel('Average Score')\n",
    "plt.xticks(rotation=90)\n",
    "plt.ylim(0, 100)"
   ]
  },
  {
   "cell_type": "code",
   "execution_count": 59,
   "id": "28d2f2ad-497c-4862-9fd4-46ae4d8dca23",
   "metadata": {},
   "outputs": [],
   "source": [
    "# calculate the average for each category \n",
    "averages_categories = {category : np.mean(scores) for category,scores in category_similarities.items()} "
   ]
  },
  {
   "cell_type": "code",
   "execution_count": 60,
   "id": "8d0ed780-7362-4e4f-8baa-425e96bdbbbe",
   "metadata": {},
   "outputs": [
    {
     "name": "stdout",
     "output_type": "stream",
     "text": [
      "{(\"WWF's Water Stewardship Ladder\", 'Internal Action'): np.float32(55.775936), ('Alliance For Water Stewardship', 'Gather And Understand '): np.float32(55.70219), ('The CEO Water Mandate', 'Direct Operations'): np.float32(55.623825), ('The CEO Water Mandate', 'Supply Chain and\\nWatershed Management'): np.float32(55.395897), ('The CEO Water Mandate', 'Biophysical'): np.float32(55.127327), ('GRI 303: Water and Effluents 2018', 'Interactions with water as a shared\\nresource'): np.float32(54.683746), ('Alliance For Water Stewardship', 'Implement'): np.float32(54.62707), ('Alliance For Water Stewardship', 'Evaluate'): np.float32(54.18337), ('The CEO Water Mandate', 'Policies,Governance, and Targets'): np.float32(53.425724), ('GRI 303: Water and Effluents 2018', 'Water withdrawal'): np.float32(53.385746), ('The CEO Water Mandate', 'Business Opportunities'): np.float32(53.09103), ('The CEO Water Mandate', 'Performance'): np.float32(52.773056), ('The CEO Water Mandate', 'Community Engagement'): np.float32(52.66018), ('The CEO Water Mandate', 'Collective Action'): np.float32(52.525894), ('GRI 303: Water and Effluents 2018', 'Water consumption'): np.float32(52.076305), ('The CEO Water Mandate', 'Internal Actions'): np.float32(51.74265), ('GRI 303: Water and Effluents 2018', 'Water discharge'): np.float32(51.447155), ('Alliance For Water Stewardship', 'Commit And Plan'): np.float32(51.40528), ('The CEO Water Mandate', 'Socio-economic'): np.float32(51.025696), (\"WWF's Water Stewardship Ladder\", 'Knowledge Of Impact'): np.float32(50.92852), ('The CEO Water Mandate', 'Public Policy'): np.float32(50.92765), (\"WWF's Water Stewardship Ladder\", 'Collective Action'): np.float32(50.8602), (\"WWF's Water Stewardship Ladder\", 'Influence Governance'): np.float32(50.722267), ('The CEO Water Mandate', 'External Engagement '): np.float32(50.650894), (\"WWF's Water Stewardship Ladder\", 'Water Awareness'): np.float32(50.023075), ('The CEO Water Mandate', 'Context'): np.float32(49.7523), ('The CEO Water Mandate', 'Institutional'): np.float32(49.708027), ('Alliance For Water Stewardship', 'Communicate And Disclose'): np.float32(49.061043), ('The CEO Water Mandate', 'External Impacts'): np.float32(47.906986), ('The CEO Water Mandate', 'Transparency'): np.float32(46.848988), ('The CEO Water Mandate', 'Compliance'): np.float32(45.515182), ('GRI 303: Water and Effluents 2018', 'Management of water discharge related impacts'): np.float32(45.46318), ('The CEO Water Mandate', 'Business Risks'): np.float32(42.941006)}\n"
     ]
    }
   ],
   "source": [
    "# sorting values in descending order\n",
    "averages_categories_ordered = dict(sorted(averages_categories.items(), key=lambda item: item[1], reverse=True))\n",
    "\n",
    "# printing output\n",
    "print(averages_categories_ordered)"
   ]
  },
  {
   "cell_type": "code",
   "execution_count": 61,
   "id": "499879a3-5019-4548-b4ca-0d28e84d4b79",
   "metadata": {},
   "outputs": [],
   "source": [
    "from collections import defaultdict"
   ]
  },
  {
   "cell_type": "code",
   "execution_count": 62,
   "id": "1c784b13-c8c3-4cbe-a2bb-21e82fe47332",
   "metadata": {},
   "outputs": [],
   "source": [
    "import seaborn as sns"
   ]
  },
  {
   "cell_type": "markdown",
   "id": "795023eb-5e7f-4aba-a4c2-92914a8bb2d2",
   "metadata": {},
   "source": [
    "An explanation should be provided about what each category and subcategory mean. "
   ]
  },
  {
   "cell_type": "code",
   "execution_count": 63,
   "id": "d12f059c-b8f3-4f63-848c-c8fed0bb61fc",
   "metadata": {},
   "outputs": [
    {
     "data": {
      "image/png": "[encoded data removed]",
      "text/plain": [
       "<Figure size 1200x600 with 1 Axes>"
      ]
     },
     "metadata": {},
     "output_type": "display_data"
    }
   ],
   "source": [
    "#I want to plot for each framework what are the top 5 categories \n",
    "# Group by Framework\n",
    "grouped = defaultdict(list)\n",
    "for (framework, category), score in averages_categories_ordered.items():\n",
    "    grouped[framework].append((category, score))\n",
    "\n",
    "# For each framework, get top 5 categories\n",
    "top5_data = []\n",
    "for framework, cat_scores in grouped.items():\n",
    "    sorted_top5 = sorted(cat_scores, key=lambda x: x[1], reverse=True)[:5]\n",
    "    for category, score in sorted_top5:\n",
    "        top5_data.append({'Framework': framework, 'Category': category, 'Score': score})\n",
    "\n",
    "# Convert to DataFrame\n",
    "df_top5 = pd.DataFrame(top5_data)\n",
    "\n",
    "# Plot\n",
    "plt.figure(figsize=(12, 6))\n",
    "sns.barplot(data=df_top5, x='Score', y='Category', hue='Framework')\n",
    "plt.title(\"Top 5 Similarity Scores per Framework\")\n",
    "plt.xlabel(\"Similarity Score (%)\")\n",
    "plt.ylabel(\"Category\")\n",
    "plt.legend(title='Framework', bbox_to_anchor=(1.05, 1), loc='upper left')\n",
    "plt.tight_layout()\n",
    "plt.show()"
   ]
  },
  {
   "cell_type": "code",
   "execution_count": 64,
   "id": "b70dbc28-1807-4e19-829a-9bc80c3484b1",
   "metadata": {},
   "outputs": [
    {
     "data": {
      "image/png": "[encoded data removed]",
      "text/plain": [
       "<Figure size 1200x600 with 1 Axes>"
      ]
     },
     "metadata": {},
     "output_type": "display_data"
    }
   ],
   "source": [
    "# I want to plot the least respected categories in each category \n",
    "# Group by Framework\n",
    "grouped = defaultdict(list)\n",
    "for (framework, category), score in averages_categories_ordered.items():\n",
    "    grouped[framework].append((category, score))\n",
    "\n",
    "# For each framework, get top 5 categories\n",
    "bottom5_data = []\n",
    "for framework, cat_scores in grouped.items():\n",
    "    sorted_bottom5 = sorted(cat_scores, key=lambda x: x[1], reverse=False)[:5]\n",
    "    for category, score in sorted_bottom5:\n",
    "        bottom5_data.append({'Framework': framework, 'Category': category, 'Score': score})\n",
    "\n",
    "# Convert to DataFrame\n",
    "df_bottom5 = pd.DataFrame(bottom5_data)\n",
    "\n",
    "# Plot\n",
    "plt.figure(figsize=(12, 6))\n",
    "sns.barplot(data=df_bottom5, x='Score', y='Category', hue='Framework', dodge = False)\n",
    "plt.title(\"Bottom 5 Similarity Scores per Framework\")\n",
    "plt.xlabel(\"Similarity Score (%)\")\n",
    "plt.ylabel(\"Category\")\n",
    "plt.legend(title='Framework', bbox_to_anchor=(1.05, 1), loc='upper left')\n",
    "plt.tight_layout()\n",
    "plt.show()"
   ]
  },
  {
   "cell_type": "markdown",
   "id": "150c5cbe-12fd-42cd-9a2f-a8004a81e44a",
   "metadata": {},
   "source": [
    "### Compare the similarity between similar subcategories accross the dataframes  "
   ]
  },
  {
   "cell_type": "code",
   "execution_count": 65,
   "id": "de5b0b6f-9764-425d-8567-d7b8887d59ad",
   "metadata": {},
   "outputs": [],
   "source": [
    "def compare_framework_categories(df, model, pair1, pair2):\n",
    "    \"\"\"\n",
    "    Compare average cosine similarity between two (Framework, Category) pairs.\n",
    "\n",
    "    Parameters:\n",
    "    - df: pandas DataFrame with 'Framework', 'Category', and 'Sentences' columns.\n",
    "    - model: sentence embedding model (e.g., SentenceTransformer).\n",
    "    - pair1: tuple -> (framework1, category1)\n",
    "    - pair2: tuple -> (framework2, category2)\n",
    "\n",
    "    Returns:\n",
    "    - Average cosine similarity between the two sets of sentences.\n",
    "    \"\"\"\n",
    "    fw1, cat1 = pair1\n",
    "    fw2, cat2 = pair2\n",
    "\n",
    "    # Retrieve sentences\n",
    "    sents1 = df[(df['Framework'] == fw1) & (df['Category'] == cat1)]['Sentences'].values\n",
    "    sents2 = df[(df['Framework'] == fw2) & (df['Category'] == cat2)]['Sentences'].values\n",
    "\n",
    "    if len(sents1) == 0 or len(sents2) == 0:\n",
    "        print(\"One or both pairs not found.\")\n",
    "        return None\n",
    "\n",
    "    # Flatten if needed\n",
    "    sents1 = sents1[0] if isinstance(sents1[0], list) else [sents1[0]]\n",
    "    sents2 = sents2[0] if isinstance(sents2[0], list) else [sents2[0]]\n",
    "\n",
    "    # Encode\n",
    "    try:\n",
    "        emb1 = model.encode(sents1)\n",
    "        emb2 = model.encode(sents2)\n",
    "    except Exception as e:\n",
    "        print(f\"Embedding failed: {e}\")\n",
    "        return None\n",
    "\n",
    "    # Similarity matrix and average\n",
    "    sim_matrix = cosine_similarity(emb1, emb2)\n",
    "    avg_sim = np.mean(sim_matrix)\n",
    "\n",
    "    print(f\"Average cosine similarity between '{fw1} - {cat1}' and '{fw2} - {cat2}': {avg_sim:.4f}\")\n",
    "    return avg_sim"
   ]
  },
  {
   "cell_type": "markdown",
   "id": "43b5d2e1-b8d1-48a5-b2d7-7e4b733fc47a",
   "metadata": {},
   "source": [
    "#### Comparison : ('The CEO Water Mandate', 'Performance') , ('Alliance For Water Stewardship', 'Evaluate') "
   ]
  },
  {
   "cell_type": "code",
   "execution_count": 66,
   "id": "c9f977e7-0841-4f4d-b233-b2d771d23e70",
   "metadata": {},
   "outputs": [
    {
     "name": "stdout",
     "output_type": "stream",
     "text": [
      "Average cosine similarity between 'The CEO Water Mandate - Performance' and 'Alliance For Water Stewardship - Evaluate': 0.3498\n"
     ]
    },
    {
     "data": {
      "text/plain": [
       "np.float32(0.34976274)"
      ]
     },
     "execution_count": 66,
     "metadata": {},
     "output_type": "execute_result"
    }
   ],
   "source": [
    "compare_framework_categories(\n",
    "    framework_text,\n",
    "    model,\n",
    "    ('The CEO Water Mandate', 'Performance'),\n",
    "    ('Alliance For Water Stewardship', 'Evaluate')\n",
    ")"
   ]
  },
  {
   "cell_type": "markdown",
   "id": "2cf97e6f-dfc8-4ee8-a73d-f96e94caebe7",
   "metadata": {},
   "source": [
    "We can also see that which of the two categories hold **the most similarity with the reports data**. "
   ]
  },
  {
   "cell_type": "code",
   "execution_count": 67,
   "id": "c78a917a-4107-403d-acbf-ba822e481d70",
   "metadata": {},
   "outputs": [],
   "source": [
    "averages_categories_ordered_df = pd.DataFrame([averages_categories_ordered])"
   ]
  },
  {
   "cell_type": "code",
   "execution_count": 68,
   "id": "9046616b-c398-4abd-aad6-8bb35bd6b55e",
   "metadata": {},
   "outputs": [],
   "source": [
    "# reshape the dataframe, convert the columns to rows \n",
    "averages_categories_ordered_df_melt = averages_categories_ordered_df.melt(\n",
    "    var_name = \"Category\", \n",
    "    value_name = \"Similarity\" \n",
    ") "
   ]
  },
  {
   "cell_type": "code",
   "execution_count": 69,
   "id": "658ae693-9686-40b1-9006-9972ab35dac0",
   "metadata": {},
   "outputs": [
    {
     "data": {
      "text/html": [
       "<div>\n",
       "<style scoped>\n",
       "    .dataframe tbody tr th:only-of-type {\n",
       "        vertical-align: middle;\n",
       "    }\n",
       "\n",
       "    .dataframe tbody tr th {\n",
       "        vertical-align: top;\n",
       "    }\n",
       "\n",
       "    .dataframe thead th {\n",
       "        text-align: right;\n",
       "    }\n",
       "</style>\n",
       "<table border=\"1\" class=\"dataframe\">\n",
       "  <thead>\n",
       "    <tr style=\"text-align: right;\">\n",
       "      <th></th>\n",
       "      <th>Category</th>\n",
       "      <th>Similarity</th>\n",
       "    </tr>\n",
       "  </thead>\n",
       "  <tbody>\n",
       "    <tr>\n",
       "      <th>7</th>\n",
       "      <td>(Alliance For Water Stewardship, Evaluate)</td>\n",
       "      <td>54.183369</td>\n",
       "    </tr>\n",
       "    <tr>\n",
       "      <th>11</th>\n",
       "      <td>(The CEO Water Mandate, Performance)</td>\n",
       "      <td>52.773056</td>\n",
       "    </tr>\n",
       "  </tbody>\n",
       "</table>\n",
       "</div>"
      ],
      "text/plain": [
       "                                      Category  Similarity\n",
       "7   (Alliance For Water Stewardship, Evaluate)   54.183369\n",
       "11        (The CEO Water Mandate, Performance)   52.773056"
      ]
     },
     "execution_count": 69,
     "metadata": {},
     "output_type": "execute_result"
    }
   ],
   "source": [
    "### filter out for the studied categories \n",
    "compared_categories_1 = [('The CEO Water Mandate', 'Performance'),('Alliance For Water Stewardship', 'Evaluate')]\n",
    "averages_categories_ordered_df_melt[averages_categories_ordered_df_melt[\"Category\"].isin(compared_categories_1)]"
   ]
  },
  {
   "cell_type": "markdown",
   "id": "3f492669-feac-4b7a-b42d-8b94e1d91305",
   "metadata": {},
   "source": [
    "#### Comparison : ('The CEO Water Mandate', 'Transparency') and ('Alliance For Water Stewardship', 'Communicate And Disclose') "
   ]
  },
  {
   "cell_type": "code",
   "execution_count": 70,
   "id": "0c0abcfc-f173-46f3-b402-27d1071afe70",
   "metadata": {},
   "outputs": [
    {
     "name": "stdout",
     "output_type": "stream",
     "text": [
      "Average cosine similarity between 'The CEO Water Mandate - Transparency' and 'Alliance For Water Stewardship - Communicate And Disclose': 0.3562\n"
     ]
    },
    {
     "data": {
      "text/plain": [
       "np.float32(0.35622114)"
      ]
     },
     "execution_count": 70,
     "metadata": {},
     "output_type": "execute_result"
    }
   ],
   "source": [
    "compare_framework_categories(\n",
    "    framework_text,\n",
    "    model,\n",
    "    ('The CEO Water Mandate', 'Transparency'),\n",
    "    ('Alliance For Water Stewardship', 'Communicate And Disclose')\n",
    ")"
   ]
  },
  {
   "cell_type": "code",
   "execution_count": 71,
   "id": "a9a9af3f-d30b-49b8-bc2a-d6ba796c9259",
   "metadata": {},
   "outputs": [
    {
     "data": {
      "text/html": [
       "<div>\n",
       "<style scoped>\n",
       "    .dataframe tbody tr th:only-of-type {\n",
       "        vertical-align: middle;\n",
       "    }\n",
       "\n",
       "    .dataframe tbody tr th {\n",
       "        vertical-align: top;\n",
       "    }\n",
       "\n",
       "    .dataframe thead th {\n",
       "        text-align: right;\n",
       "    }\n",
       "</style>\n",
       "<table border=\"1\" class=\"dataframe\">\n",
       "  <thead>\n",
       "    <tr style=\"text-align: right;\">\n",
       "      <th></th>\n",
       "      <th>Category</th>\n",
       "      <th>Similarity</th>\n",
       "    </tr>\n",
       "  </thead>\n",
       "  <tbody>\n",
       "    <tr>\n",
       "      <th>27</th>\n",
       "      <td>(Alliance For Water Stewardship, Communicate A...</td>\n",
       "      <td>49.061043</td>\n",
       "    </tr>\n",
       "    <tr>\n",
       "      <th>29</th>\n",
       "      <td>(The CEO Water Mandate, Transparency)</td>\n",
       "      <td>46.848988</td>\n",
       "    </tr>\n",
       "  </tbody>\n",
       "</table>\n",
       "</div>"
      ],
      "text/plain": [
       "                                             Category  Similarity\n",
       "27  (Alliance For Water Stewardship, Communicate A...   49.061043\n",
       "29              (The CEO Water Mandate, Transparency)   46.848988"
      ]
     },
     "execution_count": 71,
     "metadata": {},
     "output_type": "execute_result"
    }
   ],
   "source": [
    "### filter out for the studied categories \n",
    "compared_categories_2 = [('The CEO Water Mandate', 'Transparency'),('Alliance For Water Stewardship', 'Communicate And Disclose')]\n",
    "averages_categories_ordered_df_melt[averages_categories_ordered_df_melt[\"Category\"].isin(compared_categories_2)]"
   ]
  },
  {
   "cell_type": "markdown",
   "id": "5449353f-ebbc-4e0d-a024-aa57bc48de6c",
   "metadata": {},
   "source": [
    "#### Comparison : ('The CEO Water Mandate', 'Policies,Governance, and Targets') and (\"WWF's Water Stewardship Ladder\", 'Influence Governance')"
   ]
  },
  {
   "cell_type": "code",
   "execution_count": 72,
   "id": "767567f2-4a07-46c7-bf4a-201030e4e60b",
   "metadata": {},
   "outputs": [
    {
     "name": "stdout",
     "output_type": "stream",
     "text": [
      "Average cosine similarity between 'The CEO Water Mandate - Policies,Governance, and Targets' and 'WWF's Water Stewardship Ladder - Influence Governance': 0.3492\n"
     ]
    },
    {
     "data": {
      "text/plain": [
       "np.float32(0.34919187)"
      ]
     },
     "execution_count": 72,
     "metadata": {},
     "output_type": "execute_result"
    }
   ],
   "source": [
    "compare_framework_categories(\n",
    "    framework_text,\n",
    "    model,\n",
    "    ('The CEO Water Mandate', 'Policies,Governance, and Targets'),\n",
    "    (\"WWF's Water Stewardship Ladder\", 'Influence Governance')\n",
    ")"
   ]
  },
  {
   "cell_type": "code",
   "execution_count": 73,
   "id": "c12f8eda-4439-4024-810c-112ce1f912dd",
   "metadata": {},
   "outputs": [
    {
     "data": {
      "text/html": [
       "<div>\n",
       "<style scoped>\n",
       "    .dataframe tbody tr th:only-of-type {\n",
       "        vertical-align: middle;\n",
       "    }\n",
       "\n",
       "    .dataframe tbody tr th {\n",
       "        vertical-align: top;\n",
       "    }\n",
       "\n",
       "    .dataframe thead th {\n",
       "        text-align: right;\n",
       "    }\n",
       "</style>\n",
       "<table border=\"1\" class=\"dataframe\">\n",
       "  <thead>\n",
       "    <tr style=\"text-align: right;\">\n",
       "      <th></th>\n",
       "      <th>Category</th>\n",
       "      <th>Similarity</th>\n",
       "    </tr>\n",
       "  </thead>\n",
       "  <tbody>\n",
       "    <tr>\n",
       "      <th>8</th>\n",
       "      <td>(The CEO Water Mandate, Policies,Governance, a...</td>\n",
       "      <td>53.425724</td>\n",
       "    </tr>\n",
       "    <tr>\n",
       "      <th>22</th>\n",
       "      <td>(WWF's Water Stewardship Ladder, Influence Gov...</td>\n",
       "      <td>50.722267</td>\n",
       "    </tr>\n",
       "  </tbody>\n",
       "</table>\n",
       "</div>"
      ],
      "text/plain": [
       "                                             Category  Similarity\n",
       "8   (The CEO Water Mandate, Policies,Governance, a...   53.425724\n",
       "22  (WWF's Water Stewardship Ladder, Influence Gov...   50.722267"
      ]
     },
     "execution_count": 73,
     "metadata": {},
     "output_type": "execute_result"
    }
   ],
   "source": [
    "### filter out for the studied categories \n",
    "compared_categories_3 = [('The CEO Water Mandate', 'Policies,Governance, and Targets'),(\"WWF's Water Stewardship Ladder\", 'Influence Governance')]\n",
    "averages_categories_ordered_df_melt[averages_categories_ordered_df_melt[\"Category\"].isin(compared_categories_3)]"
   ]
  },
  {
   "cell_type": "markdown",
   "id": "d945a9e2-06e6-40a1-99d0-90a9cdd4bfaf",
   "metadata": {},
   "source": [
    "#### Comparison ('The CEO Water Mandate', 'Internal Actions'), (\"WWF's Water Stewardship Ladder\", 'Internal Action')"
   ]
  },
  {
   "cell_type": "code",
   "execution_count": 74,
   "id": "47115ebe-a561-4416-866b-a0bbea92248a",
   "metadata": {},
   "outputs": [
    {
     "name": "stdout",
     "output_type": "stream",
     "text": [
      "Average cosine similarity between 'The CEO Water Mandate - Internal Actions' and 'WWF's Water Stewardship Ladder - Internal Action': 0.2820\n"
     ]
    },
    {
     "data": {
      "text/plain": [
       "np.float32(0.28199166)"
      ]
     },
     "execution_count": 74,
     "metadata": {},
     "output_type": "execute_result"
    }
   ],
   "source": [
    "compare_framework_categories(\n",
    "    framework_text,\n",
    "    model,\n",
    "    ('The CEO Water Mandate', 'Internal Actions'),\n",
    "    (\"WWF's Water Stewardship Ladder\", 'Internal Action')\n",
    ") "
   ]
  },
  {
   "cell_type": "code",
   "execution_count": 75,
   "id": "5e40e2b7-17f3-4ad9-aa49-747399b3d005",
   "metadata": {},
   "outputs": [
    {
     "data": {
      "text/html": [
       "<div>\n",
       "<style scoped>\n",
       "    .dataframe tbody tr th:only-of-type {\n",
       "        vertical-align: middle;\n",
       "    }\n",
       "\n",
       "    .dataframe tbody tr th {\n",
       "        vertical-align: top;\n",
       "    }\n",
       "\n",
       "    .dataframe thead th {\n",
       "        text-align: right;\n",
       "    }\n",
       "</style>\n",
       "<table border=\"1\" class=\"dataframe\">\n",
       "  <thead>\n",
       "    <tr style=\"text-align: right;\">\n",
       "      <th></th>\n",
       "      <th>Category</th>\n",
       "      <th>Similarity</th>\n",
       "    </tr>\n",
       "  </thead>\n",
       "  <tbody>\n",
       "    <tr>\n",
       "      <th>0</th>\n",
       "      <td>(WWF's Water Stewardship Ladder, Internal Action)</td>\n",
       "      <td>55.775936</td>\n",
       "    </tr>\n",
       "    <tr>\n",
       "      <th>15</th>\n",
       "      <td>(The CEO Water Mandate, Internal Actions)</td>\n",
       "      <td>51.742649</td>\n",
       "    </tr>\n",
       "  </tbody>\n",
       "</table>\n",
       "</div>"
      ],
      "text/plain": [
       "                                             Category  Similarity\n",
       "0   (WWF's Water Stewardship Ladder, Internal Action)   55.775936\n",
       "15          (The CEO Water Mandate, Internal Actions)   51.742649"
      ]
     },
     "execution_count": 75,
     "metadata": {},
     "output_type": "execute_result"
    }
   ],
   "source": [
    "### filter out for the studied categories \n",
    "compared_categories_4 = [('The CEO Water Mandate', 'Internal Actions'),(\"WWF's Water Stewardship Ladder\", 'Internal Action')]\n",
    "averages_categories_ordered_df_melt[averages_categories_ordered_df_melt[\"Category\"].isin(compared_categories_4)]"
   ]
  },
  {
   "cell_type": "markdown",
   "id": "35176acb-3b4a-4ce0-bc04-798b2976b93e",
   "metadata": {},
   "source": [
    "### Similarity Analysis in relation to Performance"
   ]
  },
  {
   "cell_type": "code",
   "execution_count": 76,
   "id": "7f9ca613-3125-429f-960b-cb95043c3e1b",
   "metadata": {},
   "outputs": [],
   "source": [
    "### prepare framework similarity dataframe \n",
    "framework_similarities_df = pd.DataFrame(framework_similarities)\n",
    "# rename columns \n",
    "rename_dict = {\n",
    "    'Alliance For Water Stewardship': 'Alliance For Water Stewardship Similarity' , \n",
    "    'GRI 303: Water and Effluents 2018' : 'GRI 303: Water and Effluents 2018 Similarity', \n",
    "    'The CEO Water Mandate': 'The CEO Water Mandate Similarity' , \n",
    "    \"WWF's Water Stewardship Ladder\" : \"WWF's Water Stewardship Ladder Similarity\" \n",
    "} \n",
    "framework_similarities_df.rename(columns = rename_dict,inplace = True)"
   ]
  },
  {
   "cell_type": "code",
   "execution_count": 77,
   "id": "eb9525f2-d72d-450f-bdc9-77b9a69750e4",
   "metadata": {},
   "outputs": [
    {
     "data": {
      "text/html": [
       "<div>\n",
       "<style scoped>\n",
       "    .dataframe tbody tr th:only-of-type {\n",
       "        vertical-align: middle;\n",
       "    }\n",
       "\n",
       "    .dataframe tbody tr th {\n",
       "        vertical-align: top;\n",
       "    }\n",
       "\n",
       "    .dataframe thead th {\n",
       "        text-align: right;\n",
       "    }\n",
       "</style>\n",
       "<table border=\"1\" class=\"dataframe\">\n",
       "  <thead>\n",
       "    <tr style=\"text-align: right;\">\n",
       "      <th></th>\n",
       "      <th>Doc ID</th>\n",
       "      <th>Company Name</th>\n",
       "      <th>File Name</th>\n",
       "      <th>Rating</th>\n",
       "      <th>sentences</th>\n",
       "    </tr>\n",
       "  </thead>\n",
       "  <tbody>\n",
       "    <tr>\n",
       "      <th>0</th>\n",
       "      <td>1</td>\n",
       "      <td>ACCIONA S.A</td>\n",
       "      <td>ACCIONA S.A_2021.pdf</td>\n",
       "      <td>A</td>\n",
       "      <td>reduced the fossil energy consumption by 83% c...</td>\n",
       "    </tr>\n",
       "    <tr>\n",
       "      <th>0</th>\n",
       "      <td>1</td>\n",
       "      <td>ACCIONA S.A</td>\n",
       "      <td>ACCIONA S.A_2021.pdf</td>\n",
       "      <td>A</td>\n",
       "      <td>In order to consolidate this trend, we have re...</td>\n",
       "    </tr>\n",
       "    <tr>\n",
       "      <th>0</th>\n",
       "      <td>1</td>\n",
       "      <td>ACCIONA S.A</td>\n",
       "      <td>ACCIONA S.A_2021.pdf</td>\n",
       "      <td>A</td>\n",
       "      <td>In 2021, we also reduced the consumption of mu...</td>\n",
       "    </tr>\n",
       "    <tr>\n",
       "      <th>0</th>\n",
       "      <td>1</td>\n",
       "      <td>ACCIONA S.A</td>\n",
       "      <td>ACCIONA S.A_2021.pdf</td>\n",
       "      <td>A</td>\n",
       "      <td>Regarding waste, 87% of non-hazardous waste wa...</td>\n",
       "    </tr>\n",
       "    <tr>\n",
       "      <th>0</th>\n",
       "      <td>1</td>\n",
       "      <td>ACCIONA S.A</td>\n",
       "      <td>ACCIONA S.A_2021.pdf</td>\n",
       "      <td>A</td>\n",
       "      <td>Likewise, we consumed 28% of recycled or renew...</td>\n",
       "    </tr>\n",
       "  </tbody>\n",
       "</table>\n",
       "</div>"
      ],
      "text/plain": [
       "  Doc ID Company Name             File Name Rating  \\\n",
       "0      1  ACCIONA S.A  ACCIONA S.A_2021.pdf      A   \n",
       "0      1  ACCIONA S.A  ACCIONA S.A_2021.pdf      A   \n",
       "0      1  ACCIONA S.A  ACCIONA S.A_2021.pdf      A   \n",
       "0      1  ACCIONA S.A  ACCIONA S.A_2021.pdf      A   \n",
       "0      1  ACCIONA S.A  ACCIONA S.A_2021.pdf      A   \n",
       "\n",
       "                                           sentences  \n",
       "0  reduced the fossil energy consumption by 83% c...  \n",
       "0  In order to consolidate this trend, we have re...  \n",
       "0  In 2021, we also reduced the consumption of mu...  \n",
       "0  Regarding waste, 87% of non-hazardous waste wa...  \n",
       "0  Likewise, we consumed 28% of recycled or renew...  "
      ]
     },
     "execution_count": 77,
     "metadata": {},
     "output_type": "execute_result"
    }
   ],
   "source": [
    "text_dataframe_water_exploded.head() "
   ]
  },
  {
   "cell_type": "code",
   "execution_count": 78,
   "id": "79fb8de5-7a69-49a3-8574-2817ce4e816b",
   "metadata": {},
   "outputs": [],
   "source": [
    "text_dataframe_water_exploded_reset = text_dataframe_water_exploded.reset_index()"
   ]
  },
  {
   "cell_type": "code",
   "execution_count": 79,
   "id": "df6bbb1d-43d6-48df-8c27-7339981f73e8",
   "metadata": {},
   "outputs": [],
   "source": [
    "### concat the dataframes \n",
    "full_data = pd.concat([text_dataframe_water_exploded_reset,framework_similarities_df], axis = 1)"
   ]
  },
  {
   "cell_type": "code",
   "execution_count": 80,
   "id": "ee0f36e5-14ff-43d5-b8d1-eadd3012c68e",
   "metadata": {},
   "outputs": [
    {
     "data": {
      "text/html": [
       "<div>\n",
       "<style scoped>\n",
       "    .dataframe tbody tr th:only-of-type {\n",
       "        vertical-align: middle;\n",
       "    }\n",
       "\n",
       "    .dataframe tbody tr th {\n",
       "        vertical-align: top;\n",
       "    }\n",
       "\n",
       "    .dataframe thead th {\n",
       "        text-align: right;\n",
       "    }\n",
       "</style>\n",
       "<table border=\"1\" class=\"dataframe\">\n",
       "  <thead>\n",
       "    <tr style=\"text-align: right;\">\n",
       "      <th></th>\n",
       "      <th>index</th>\n",
       "      <th>Doc ID</th>\n",
       "      <th>Company Name</th>\n",
       "      <th>File Name</th>\n",
       "      <th>Rating</th>\n",
       "      <th>sentences</th>\n",
       "      <th>Alliance For Water Stewardship Similarity</th>\n",
       "      <th>GRI 303: Water and Effluents 2018 Similarity</th>\n",
       "      <th>The CEO Water Mandate Similarity</th>\n",
       "      <th>WWF's Water Stewardship Ladder Similarity</th>\n",
       "    </tr>\n",
       "  </thead>\n",
       "  <tbody>\n",
       "    <tr>\n",
       "      <th>0</th>\n",
       "      <td>0</td>\n",
       "      <td>1</td>\n",
       "      <td>ACCIONA S.A</td>\n",
       "      <td>ACCIONA S.A_2021.pdf</td>\n",
       "      <td>A</td>\n",
       "      <td>reduced the fossil energy consumption by 83% c...</td>\n",
       "      <td>30.587032</td>\n",
       "      <td>27.413874</td>\n",
       "      <td>29.538927</td>\n",
       "      <td>30.071371</td>\n",
       "    </tr>\n",
       "    <tr>\n",
       "      <th>1</th>\n",
       "      <td>0</td>\n",
       "      <td>1</td>\n",
       "      <td>ACCIONA S.A</td>\n",
       "      <td>ACCIONA S.A_2021.pdf</td>\n",
       "      <td>A</td>\n",
       "      <td>In order to consolidate this trend, we have re...</td>\n",
       "      <td>45.770382</td>\n",
       "      <td>34.943668</td>\n",
       "      <td>52.159931</td>\n",
       "      <td>58.363415</td>\n",
       "    </tr>\n",
       "    <tr>\n",
       "      <th>2</th>\n",
       "      <td>0</td>\n",
       "      <td>1</td>\n",
       "      <td>ACCIONA S.A</td>\n",
       "      <td>ACCIONA S.A_2021.pdf</td>\n",
       "      <td>A</td>\n",
       "      <td>In 2021, we also reduced the consumption of mu...</td>\n",
       "      <td>57.998859</td>\n",
       "      <td>58.816917</td>\n",
       "      <td>55.749866</td>\n",
       "      <td>55.955688</td>\n",
       "    </tr>\n",
       "    <tr>\n",
       "      <th>3</th>\n",
       "      <td>0</td>\n",
       "      <td>1</td>\n",
       "      <td>ACCIONA S.A</td>\n",
       "      <td>ACCIONA S.A_2021.pdf</td>\n",
       "      <td>A</td>\n",
       "      <td>Regarding waste, 87% of non-hazardous waste wa...</td>\n",
       "      <td>38.967606</td>\n",
       "      <td>42.783806</td>\n",
       "      <td>39.995110</td>\n",
       "      <td>38.951550</td>\n",
       "    </tr>\n",
       "    <tr>\n",
       "      <th>4</th>\n",
       "      <td>0</td>\n",
       "      <td>1</td>\n",
       "      <td>ACCIONA S.A</td>\n",
       "      <td>ACCIONA S.A_2021.pdf</td>\n",
       "      <td>A</td>\n",
       "      <td>Likewise, we consumed 28% of recycled or renew...</td>\n",
       "      <td>32.768635</td>\n",
       "      <td>38.677471</td>\n",
       "      <td>42.735001</td>\n",
       "      <td>44.398338</td>\n",
       "    </tr>\n",
       "  </tbody>\n",
       "</table>\n",
       "</div>"
      ],
      "text/plain": [
       "   index Doc ID Company Name             File Name Rating  \\\n",
       "0      0      1  ACCIONA S.A  ACCIONA S.A_2021.pdf      A   \n",
       "1      0      1  ACCIONA S.A  ACCIONA S.A_2021.pdf      A   \n",
       "2      0      1  ACCIONA S.A  ACCIONA S.A_2021.pdf      A   \n",
       "3      0      1  ACCIONA S.A  ACCIONA S.A_2021.pdf      A   \n",
       "4      0      1  ACCIONA S.A  ACCIONA S.A_2021.pdf      A   \n",
       "\n",
       "                                           sentences  \\\n",
       "0  reduced the fossil energy consumption by 83% c...   \n",
       "1  In order to consolidate this trend, we have re...   \n",
       "2  In 2021, we also reduced the consumption of mu...   \n",
       "3  Regarding waste, 87% of non-hazardous waste wa...   \n",
       "4  Likewise, we consumed 28% of recycled or renew...   \n",
       "\n",
       "   Alliance For Water Stewardship Similarity  \\\n",
       "0                                  30.587032   \n",
       "1                                  45.770382   \n",
       "2                                  57.998859   \n",
       "3                                  38.967606   \n",
       "4                                  32.768635   \n",
       "\n",
       "   GRI 303: Water and Effluents 2018 Similarity  \\\n",
       "0                                     27.413874   \n",
       "1                                     34.943668   \n",
       "2                                     58.816917   \n",
       "3                                     42.783806   \n",
       "4                                     38.677471   \n",
       "\n",
       "   The CEO Water Mandate Similarity  WWF's Water Stewardship Ladder Similarity  \n",
       "0                         29.538927                                  30.071371  \n",
       "1                         52.159931                                  58.363415  \n",
       "2                         55.749866                                  55.955688  \n",
       "3                         39.995110                                  38.951550  \n",
       "4                         42.735001                                  44.398338  "
      ]
     },
     "execution_count": 80,
     "metadata": {},
     "output_type": "execute_result"
    }
   ],
   "source": [
    "full_data.head() "
   ]
  },
  {
   "cell_type": "code",
   "execution_count": 81,
   "id": "76754039-1d8e-4401-ade8-d3c8dc4e8aec",
   "metadata": {},
   "outputs": [],
   "source": [
    "cols = ['Alliance For Water Stewardship Similarity','GRI 303: Water and Effluents 2018 Similarity',\n",
    "        'The CEO Water Mandate Similarity',\"WWF's Water Stewardship Ladder Similarity\"] "
   ]
  },
  {
   "cell_type": "code",
   "execution_count": 82,
   "id": "1c3a8ca8-e27a-40a2-a2d3-6596dbe6a170",
   "metadata": {},
   "outputs": [
    {
     "data": {
      "image/png": "[encoded data removed]",
      "text/plain": [
       "<Figure size 1000x800 with 1 Axes>"
      ]
     },
     "metadata": {},
     "output_type": "display_data"
    }
   ],
   "source": [
    "##group the data by Rating \n",
    "\n",
    "grouped = full_data.groupby('Rating')[cols].mean() \n",
    "\n",
    "## reset index \n",
    "grouped.reset_index(inplace = True) \n",
    "\n",
    "## plot the ratings' similarity  \n",
    "#convert to long format for visualizations\n",
    "\n",
    "long_industry_df = grouped.melt(\n",
    "              id_vars = 'Rating', \n",
    "              var_name='Framework', \n",
    "              value_name='Similarity'\n",
    "\n",
    ")\n",
    "\n",
    "# Plot\n",
    "plt.figure(figsize=(10, 8))\n",
    "custom_palette = ['#D6ECF3', '#A7D3E6', '#7BBBD9','#4FA3CC']\n",
    "\n",
    "sns.set_palette(custom_palette)\n",
    "\n",
    "g = sns.barplot(\n",
    "    data=long_industry_df,\n",
    "    y='Rating',\n",
    "    x='Similarity',\n",
    "    hue='Framework'\n",
    ")\n",
    "\n",
    "# Customize legend\n",
    "plt.title('Average Framework Similarities by Rating', fontsize=14)\n",
    "plt.xlabel('Average Similarity (%)')\n",
    "plt.ylabel('Primary Industry')\n",
    "\n",
    "# Move legend outside\n",
    "plt.legend(title='Framework', bbox_to_anchor=(1.05, 1), loc='upper left')\n",
    "\n",
    "plt.tight_layout()\n",
    "plt.show()"
   ]
  },
  {
   "cell_type": "markdown",
   "id": "40b45c84-ca93-4b82-a82f-ce066c362dcb",
   "metadata": {},
   "source": [
    "Extend the previous analysis by the subcategories"
   ]
  },
  {
   "cell_type": "markdown",
   "id": "b15cd5f5-ed07-40d6-bcd1-29852acca172",
   "metadata": {},
   "source": [
    "We want to see for each framework, how the similarity evolves by year. "
   ]
  },
  {
   "cell_type": "code",
   "execution_count": 83,
   "id": "c68d14bf-8ceb-4e7f-a2f6-d794227456fb",
   "metadata": {},
   "outputs": [
    {
     "data": {
      "text/html": [
       "<div>\n",
       "<style scoped>\n",
       "    .dataframe tbody tr th:only-of-type {\n",
       "        vertical-align: middle;\n",
       "    }\n",
       "\n",
       "    .dataframe tbody tr th {\n",
       "        vertical-align: top;\n",
       "    }\n",
       "\n",
       "    .dataframe thead th {\n",
       "        text-align: right;\n",
       "    }\n",
       "</style>\n",
       "<table border=\"1\" class=\"dataframe\">\n",
       "  <thead>\n",
       "    <tr style=\"text-align: right;\">\n",
       "      <th></th>\n",
       "      <th>index</th>\n",
       "      <th>Doc ID</th>\n",
       "      <th>Company Name</th>\n",
       "      <th>File Name</th>\n",
       "      <th>Rating</th>\n",
       "      <th>sentences</th>\n",
       "      <th>Alliance For Water Stewardship Similarity</th>\n",
       "      <th>GRI 303: Water and Effluents 2018 Similarity</th>\n",
       "      <th>The CEO Water Mandate Similarity</th>\n",
       "      <th>WWF's Water Stewardship Ladder Similarity</th>\n",
       "    </tr>\n",
       "  </thead>\n",
       "  <tbody>\n",
       "    <tr>\n",
       "      <th>0</th>\n",
       "      <td>0</td>\n",
       "      <td>1</td>\n",
       "      <td>ACCIONA S.A</td>\n",
       "      <td>ACCIONA S.A_2021.pdf</td>\n",
       "      <td>A</td>\n",
       "      <td>reduced the fossil energy consumption by 83% c...</td>\n",
       "      <td>30.587032</td>\n",
       "      <td>27.413874</td>\n",
       "      <td>29.538927</td>\n",
       "      <td>30.071371</td>\n",
       "    </tr>\n",
       "    <tr>\n",
       "      <th>1</th>\n",
       "      <td>0</td>\n",
       "      <td>1</td>\n",
       "      <td>ACCIONA S.A</td>\n",
       "      <td>ACCIONA S.A_2021.pdf</td>\n",
       "      <td>A</td>\n",
       "      <td>In order to consolidate this trend, we have re...</td>\n",
       "      <td>45.770382</td>\n",
       "      <td>34.943668</td>\n",
       "      <td>52.159931</td>\n",
       "      <td>58.363415</td>\n",
       "    </tr>\n",
       "    <tr>\n",
       "      <th>2</th>\n",
       "      <td>0</td>\n",
       "      <td>1</td>\n",
       "      <td>ACCIONA S.A</td>\n",
       "      <td>ACCIONA S.A_2021.pdf</td>\n",
       "      <td>A</td>\n",
       "      <td>In 2021, we also reduced the consumption of mu...</td>\n",
       "      <td>57.998859</td>\n",
       "      <td>58.816917</td>\n",
       "      <td>55.749866</td>\n",
       "      <td>55.955688</td>\n",
       "    </tr>\n",
       "    <tr>\n",
       "      <th>3</th>\n",
       "      <td>0</td>\n",
       "      <td>1</td>\n",
       "      <td>ACCIONA S.A</td>\n",
       "      <td>ACCIONA S.A_2021.pdf</td>\n",
       "      <td>A</td>\n",
       "      <td>Regarding waste, 87% of non-hazardous waste wa...</td>\n",
       "      <td>38.967606</td>\n",
       "      <td>42.783806</td>\n",
       "      <td>39.995110</td>\n",
       "      <td>38.951550</td>\n",
       "    </tr>\n",
       "    <tr>\n",
       "      <th>4</th>\n",
       "      <td>0</td>\n",
       "      <td>1</td>\n",
       "      <td>ACCIONA S.A</td>\n",
       "      <td>ACCIONA S.A_2021.pdf</td>\n",
       "      <td>A</td>\n",
       "      <td>Likewise, we consumed 28% of recycled or renew...</td>\n",
       "      <td>32.768635</td>\n",
       "      <td>38.677471</td>\n",
       "      <td>42.735001</td>\n",
       "      <td>44.398338</td>\n",
       "    </tr>\n",
       "  </tbody>\n",
       "</table>\n",
       "</div>"
      ],
      "text/plain": [
       "   index Doc ID Company Name             File Name Rating  \\\n",
       "0      0      1  ACCIONA S.A  ACCIONA S.A_2021.pdf      A   \n",
       "1      0      1  ACCIONA S.A  ACCIONA S.A_2021.pdf      A   \n",
       "2      0      1  ACCIONA S.A  ACCIONA S.A_2021.pdf      A   \n",
       "3      0      1  ACCIONA S.A  ACCIONA S.A_2021.pdf      A   \n",
       "4      0      1  ACCIONA S.A  ACCIONA S.A_2021.pdf      A   \n",
       "\n",
       "                                           sentences  \\\n",
       "0  reduced the fossil energy consumption by 83% c...   \n",
       "1  In order to consolidate this trend, we have re...   \n",
       "2  In 2021, we also reduced the consumption of mu...   \n",
       "3  Regarding waste, 87% of non-hazardous waste wa...   \n",
       "4  Likewise, we consumed 28% of recycled or renew...   \n",
       "\n",
       "   Alliance For Water Stewardship Similarity  \\\n",
       "0                                  30.587032   \n",
       "1                                  45.770382   \n",
       "2                                  57.998859   \n",
       "3                                  38.967606   \n",
       "4                                  32.768635   \n",
       "\n",
       "   GRI 303: Water and Effluents 2018 Similarity  \\\n",
       "0                                     27.413874   \n",
       "1                                     34.943668   \n",
       "2                                     58.816917   \n",
       "3                                     42.783806   \n",
       "4                                     38.677471   \n",
       "\n",
       "   The CEO Water Mandate Similarity  WWF's Water Stewardship Ladder Similarity  \n",
       "0                         29.538927                                  30.071371  \n",
       "1                         52.159931                                  58.363415  \n",
       "2                         55.749866                                  55.955688  \n",
       "3                         39.995110                                  38.951550  \n",
       "4                         42.735001                                  44.398338  "
      ]
     },
     "execution_count": 83,
     "metadata": {},
     "output_type": "execute_result"
    }
   ],
   "source": [
    "# create a year column \n",
    "full_data.head() "
   ]
  },
  {
   "cell_type": "code",
   "execution_count": 84,
   "id": "64d6f312-bfc2-4e0d-963f-e0171d31f02f",
   "metadata": {},
   "outputs": [],
   "source": [
    "import re"
   ]
  },
  {
   "cell_type": "code",
   "execution_count": 85,
   "id": "bfcd1dcb-da4f-474f-84a5-eeb9fc39f068",
   "metadata": {},
   "outputs": [],
   "source": [
    "full_data['year'] = full_data['File Name'].apply(\n",
    "    \n",
    "    lambda x: re.search(r\"\\d{4}\", x).group() \n",
    "\n",
    ")   "
   ]
  },
  {
   "cell_type": "code",
   "execution_count": 86,
   "id": "a9ac9ad7-8e87-4209-8ca2-2caa4e345612",
   "metadata": {},
   "outputs": [
    {
     "data": {
      "image/png": "[encoded data removed]",
      "text/plain": [
       "<Figure size 1000x800 with 1 Axes>"
      ]
     },
     "metadata": {},
     "output_type": "display_data"
    }
   ],
   "source": [
    "grouped_2 = full_data.groupby('year')[cols].mean() \n",
    "\n",
    "## reset index \n",
    "grouped_2.reset_index(inplace = True) \n",
    "\n",
    "## plot the ratings' similarity  \n",
    "#convert to long format for visualizations\n",
    "\n",
    "long_industry_df_2 = grouped_2.melt(\n",
    "              id_vars = 'year', \n",
    "              var_name='Framework', \n",
    "              value_name='Similarity'\n",
    "\n",
    ")\n",
    "\n",
    "# Plot\n",
    "plt.figure(figsize=(10, 8))\n",
    "palette = [\"#1f77b4\", \"#ff7f0e\", \"#2ca02c\", \"#d62728\"]\n",
    "\n",
    "sns.set_palette(palette)\n",
    "\n",
    "g = sns.lineplot(\n",
    "    data=long_industry_df_2,\n",
    "    x='year',\n",
    "    y='Similarity',\n",
    "    hue='Framework'\n",
    ")\n",
    "\n",
    "# Customize legend\n",
    "plt.title('Average Framework Similarities by year', fontsize=14)\n",
    "plt.xlabel('Average Similarity (%)')\n",
    "plt.ylabel('Primary Industry')\n",
    "\n",
    "# Move legend outside\n",
    "plt.legend(title='Framework', bbox_to_anchor=(1.05, 1), loc='upper left')\n",
    "\n",
    "plt.tight_layout()\n",
    "plt.show()"
   ]
  },
  {
   "cell_type": "markdown",
   "id": "dbc917b6-0059-4fa5-9503-5f9987920d29",
   "metadata": {},
   "source": [
    "We can track the evolution of rating as well. "
   ]
  },
  {
   "cell_type": "markdown",
   "id": "716d38d2-e92d-48bc-9bca-e64e40a1c7d2",
   "metadata": {},
   "source": [
    "### Model Evaluation "
   ]
  },
  {
   "cell_type": "code",
   "execution_count": 87,
   "id": "ae097af7-ed70-4e66-8c28-160bf415ed7e",
   "metadata": {},
   "outputs": [
    {
     "name": "stdout",
     "output_type": "stream",
     "text": [
      "count    120620.000000\n",
      "mean         51.762286\n",
      "std          15.609338\n",
      "min           1.786540\n",
      "25%          41.115459\n",
      "50%          52.529112\n",
      "75%          63.111927\n",
      "max          97.217751\n",
      "dtype: float64\n"
     ]
    }
   ],
   "source": [
    "framework_similarities_df = pd.DataFrame(framework_similarities)\n",
    "overall_summary = pd.Series(framework_similarities_df.values.flatten().astype(float)).describe()\n",
    "print(overall_summary) "
   ]
  },
  {
   "cell_type": "markdown",
   "id": "3984d245-f6d4-4f6d-b0f5-b300be9d9093",
   "metadata": {},
   "source": [
    "### Save the essential dataframes "
   ]
  },
  {
   "cell_type": "code",
   "execution_count": 88,
   "id": "06491fc1-3108-4e35-bcdd-181255b870bd",
   "metadata": {},
   "outputs": [],
   "source": [
    "# save the dataframes in pickle format \n",
    "text_dataframe_water.to_pickle('text_dataframe_water_sbert.pkl') \n",
    "text_dataframe_water_exploded.to_pickle('text_dataframe_water_exploded_sbert.pkl') "
   ]
  },
  {
   "cell_type": "code",
   "execution_count": 92,
   "id": "da462f72-6c7e-4661-b22a-e34b50a9fc54",
   "metadata": {},
   "outputs": [
    {
     "data": {
      "text/html": [
       "<div>\n",
       "<style scoped>\n",
       "    .dataframe tbody tr th:only-of-type {\n",
       "        vertical-align: middle;\n",
       "    }\n",
       "\n",
       "    .dataframe tbody tr th {\n",
       "        vertical-align: top;\n",
       "    }\n",
       "\n",
       "    .dataframe thead th {\n",
       "        text-align: right;\n",
       "    }\n",
       "</style>\n",
       "<table border=\"1\" class=\"dataframe\">\n",
       "  <thead>\n",
       "    <tr style=\"text-align: right;\">\n",
       "      <th></th>\n",
       "      <th>Doc ID</th>\n",
       "      <th>Company Name</th>\n",
       "      <th>File Name</th>\n",
       "      <th>Rating</th>\n",
       "      <th>sentences</th>\n",
       "    </tr>\n",
       "  </thead>\n",
       "  <tbody>\n",
       "    <tr>\n",
       "      <th>0</th>\n",
       "      <td>1</td>\n",
       "      <td>ACCIONA S.A</td>\n",
       "      <td>ACCIONA S.A_2021.pdf</td>\n",
       "      <td>A</td>\n",
       "      <td>reduced the fossil energy consumption by 83% c...</td>\n",
       "    </tr>\n",
       "    <tr>\n",
       "      <th>0</th>\n",
       "      <td>1</td>\n",
       "      <td>ACCIONA S.A</td>\n",
       "      <td>ACCIONA S.A_2021.pdf</td>\n",
       "      <td>A</td>\n",
       "      <td>In order to consolidate this trend, we have re...</td>\n",
       "    </tr>\n",
       "    <tr>\n",
       "      <th>0</th>\n",
       "      <td>1</td>\n",
       "      <td>ACCIONA S.A</td>\n",
       "      <td>ACCIONA S.A_2021.pdf</td>\n",
       "      <td>A</td>\n",
       "      <td>In 2021, we also reduced the consumption of mu...</td>\n",
       "    </tr>\n",
       "    <tr>\n",
       "      <th>0</th>\n",
       "      <td>1</td>\n",
       "      <td>ACCIONA S.A</td>\n",
       "      <td>ACCIONA S.A_2021.pdf</td>\n",
       "      <td>A</td>\n",
       "      <td>Regarding waste, 87% of non-hazardous waste wa...</td>\n",
       "    </tr>\n",
       "    <tr>\n",
       "      <th>0</th>\n",
       "      <td>1</td>\n",
       "      <td>ACCIONA S.A</td>\n",
       "      <td>ACCIONA S.A_2021.pdf</td>\n",
       "      <td>A</td>\n",
       "      <td>Likewise, we consumed 28% of recycled or renew...</td>\n",
       "    </tr>\n",
       "  </tbody>\n",
       "</table>\n",
       "</div>"
      ],
      "text/plain": [
       "  Doc ID Company Name             File Name Rating  \\\n",
       "0      1  ACCIONA S.A  ACCIONA S.A_2021.pdf      A   \n",
       "0      1  ACCIONA S.A  ACCIONA S.A_2021.pdf      A   \n",
       "0      1  ACCIONA S.A  ACCIONA S.A_2021.pdf      A   \n",
       "0      1  ACCIONA S.A  ACCIONA S.A_2021.pdf      A   \n",
       "0      1  ACCIONA S.A  ACCIONA S.A_2021.pdf      A   \n",
       "\n",
       "                                           sentences  \n",
       "0  reduced the fossil energy consumption by 83% c...  \n",
       "0  In order to consolidate this trend, we have re...  \n",
       "0  In 2021, we also reduced the consumption of mu...  \n",
       "0  Regarding waste, 87% of non-hazardous waste wa...  \n",
       "0  Likewise, we consumed 28% of recycled or renew...  "
      ]
     },
     "execution_count": 92,
     "metadata": {},
     "output_type": "execute_result"
    }
   ],
   "source": [
    "text_dataframe_water_exploded.head() "
   ]
  },
  {
   "cell_type": "code",
   "execution_count": 93,
   "id": "9d45a6da-5bad-4f34-aeb4-48d1e9f6c541",
   "metadata": {},
   "outputs": [
    {
     "data": {
      "text/html": [
       "<div>\n",
       "<style scoped>\n",
       "    .dataframe tbody tr th:only-of-type {\n",
       "        vertical-align: middle;\n",
       "    }\n",
       "\n",
       "    .dataframe tbody tr th {\n",
       "        vertical-align: top;\n",
       "    }\n",
       "\n",
       "    .dataframe thead th {\n",
       "        text-align: right;\n",
       "    }\n",
       "</style>\n",
       "<table border=\"1\" class=\"dataframe\">\n",
       "  <thead>\n",
       "    <tr style=\"text-align: right;\">\n",
       "      <th></th>\n",
       "      <th>Doc ID</th>\n",
       "      <th>Company Name</th>\n",
       "      <th>File Name</th>\n",
       "      <th>Rating</th>\n",
       "      <th>sentences</th>\n",
       "    </tr>\n",
       "  </thead>\n",
       "  <tbody>\n",
       "    <tr>\n",
       "      <th>0</th>\n",
       "      <td>1</td>\n",
       "      <td>ACCIONA S.A</td>\n",
       "      <td>ACCIONA S.A_2021.pdf</td>\n",
       "      <td>A</td>\n",
       "      <td>[reduced the fossil energy consumption by 83% ...</td>\n",
       "    </tr>\n",
       "    <tr>\n",
       "      <th>1</th>\n",
       "      <td>1</td>\n",
       "      <td>ACCIONA S.A</td>\n",
       "      <td>ACCIONA S.A_2022.pdf</td>\n",
       "      <td>A</td>\n",
       "      <td>[brand, we began a journey that has made us to...</td>\n",
       "    </tr>\n",
       "    <tr>\n",
       "      <th>2</th>\n",
       "      <td>1</td>\n",
       "      <td>ACCIONA S.A</td>\n",
       "      <td>ACCIONA S.A_2023.pdf</td>\n",
       "      <td>A</td>\n",
       "      <td>[sustainability., ACCIONA in 100 words ACCIONA...</td>\n",
       "    </tr>\n",
       "    <tr>\n",
       "      <th>3</th>\n",
       "      <td>1</td>\n",
       "      <td>ACCIONA S.A</td>\n",
       "      <td>ACCIONA S.A_2024.pdf</td>\n",
       "      <td>A</td>\n",
       "      <td>[01., Designing a better planet 02., Sustainab...</td>\n",
       "    </tr>\n",
       "    <tr>\n",
       "      <th>4</th>\n",
       "      <td>2</td>\n",
       "      <td>Kirin Holdings Co Ltd</td>\n",
       "      <td>Kirin Holdings Co Ltd_2021.pdf</td>\n",
       "      <td>A</td>\n",
       "      <td>[Activity Governance Risk Management Environme...</td>\n",
       "    </tr>\n",
       "  </tbody>\n",
       "</table>\n",
       "</div>"
      ],
      "text/plain": [
       "  Doc ID           Company Name                       File Name Rating  \\\n",
       "0      1            ACCIONA S.A            ACCIONA S.A_2021.pdf      A   \n",
       "1      1            ACCIONA S.A            ACCIONA S.A_2022.pdf      A   \n",
       "2      1            ACCIONA S.A            ACCIONA S.A_2023.pdf      A   \n",
       "3      1            ACCIONA S.A            ACCIONA S.A_2024.pdf      A   \n",
       "4      2  Kirin Holdings Co Ltd  Kirin Holdings Co Ltd_2021.pdf      A   \n",
       "\n",
       "                                           sentences  \n",
       "0  [reduced the fossil energy consumption by 83% ...  \n",
       "1  [brand, we began a journey that has made us to...  \n",
       "2  [sustainability., ACCIONA in 100 words ACCIONA...  \n",
       "3  [01., Designing a better planet 02., Sustainab...  \n",
       "4  [Activity Governance Risk Management Environme...  "
      ]
     },
     "execution_count": 93,
     "metadata": {},
     "output_type": "execute_result"
    }
   ],
   "source": [
    "text_dataframe_water.head() "
   ]
  },
  {
   "cell_type": "code",
   "execution_count": 89,
   "id": "4139e305-58dd-4752-b639-21263168de01",
   "metadata": {},
   "outputs": [],
   "source": [
    "import pickle"
   ]
  },
  {
   "cell_type": "code",
   "execution_count": 90,
   "id": "975af721-6ddd-496f-98b4-a83d1aa27a3b",
   "metadata": {},
   "outputs": [],
   "source": [
    "# save framework_similarities as pickle\n",
    "with open('framework_similarities_sbert.pkl', 'wb') as f:\n",
    "    pickle.dump(framework_similarities, f) "
   ]
  },
  {
   "cell_type": "code",
   "execution_count": 91,
   "id": "8ab3c4e0-ce7b-4c3f-bab5-edc503f1698f",
   "metadata": {},
   "outputs": [],
   "source": [
    "# save category_similarities as pickle\n",
    "with open('category_similarities_sbert.pkl', 'wb') as f:\n",
    "    pickle.dump(category_similarities, f) "
   ]
  },
  {
   "cell_type": "code",
   "execution_count": null,
   "id": "44ccad78-c3b3-43dd-8286-957bd1ebdb1d",
   "metadata": {},
   "outputs": [],
   "source": []
  }
 ],
 "metadata": {
  "kernelspec": {
   "display_name": "Python [conda env:base] *",
   "language": "python",
   "name": "conda-base-py"
  },
  "language_info": {
   "codemirror_mode": {
    "name": "ipython",
    "version": 3
   },
   "file_extension": ".py",
   "mimetype": "text/x-python",
   "name": "python",
   "nbconvert_exporter": "python",
   "pygments_lexer": "ipython3",
   "version": "3.11.13"
  }
 },
 "nbformat": 4,
 "nbformat_minor": 5
}
